{
 "cells": [
  {
   "cell_type": "code",
   "execution_count": 3,
   "id": "bd4854a7",
   "metadata": {},
   "outputs": [
    {
     "name": "stdout",
     "output_type": "stream",
     "text": [
      "age: hello\n"
     ]
    },
    {
     "ename": "ValueError",
     "evalue": "invalid literal for int() with base 10: 'hello'",
     "output_type": "error",
     "traceback": [
      "\u001b[1;31m---------------------------------------------------------------------------\u001b[0m",
      "\u001b[1;31mValueError\u001b[0m                                Traceback (most recent call last)",
      "Input \u001b[1;32mIn [3]\u001b[0m, in \u001b[0;36m<cell line: 1>\u001b[1;34m()\u001b[0m\n\u001b[1;32m----> 1\u001b[0m age \u001b[38;5;241m=\u001b[39m \u001b[38;5;28;43mint\u001b[39;49m\u001b[43m(\u001b[49m\u001b[38;5;28;43minput\u001b[39;49m\u001b[43m(\u001b[49m\u001b[38;5;124;43m'\u001b[39;49m\u001b[38;5;124;43mage: \u001b[39;49m\u001b[38;5;124;43m'\u001b[39;49m\u001b[43m)\u001b[49m\u001b[43m)\u001b[49m\n\u001b[0;32m      2\u001b[0m \u001b[38;5;28mprint\u001b[39m(age)\n",
      "\u001b[1;31mValueError\u001b[0m: invalid literal for int() with base 10: 'hello'"
     ]
    }
   ],
   "source": [
    "age = int(input('age: '))\n",
    "print(age)"
   ]
  },
  {
   "cell_type": "markdown",
   "id": "99683dba",
   "metadata": {},
   "source": [
    "###### how to handle errors"
   ]
  },
  {
   "cell_type": "markdown",
   "id": "1820c537",
   "metadata": {},
   "source": [
    "###### if we don't mention error type in except block then it will work for all types of errors "
   ]
  },
  {
   "cell_type": "code",
   "execution_count": 9,
   "id": "dd32c374",
   "metadata": {},
   "outputs": [
    {
     "name": "stdout",
     "output_type": "stream",
     "text": [
      "age: hello\n",
      "Invalid value\n"
     ]
    }
   ],
   "source": [
    "try :         # in try we enter code program to try first\n",
    "    age = int(input('age: '))\n",
    "    print(age)\n",
    "    \n",
    "\n",
    "except:      # in except we first add the type of error our program may experience \n",
    "    print('Invalid value')         # here we add what program should do if above eroor occurs"
   ]
  },
  {
   "cell_type": "markdown",
   "id": "961b789a",
   "metadata": {},
   "source": [
    "###### not adding error type in except block make it work for all types of errors note that one except block only handles one type of error  if mentioned, for other errors use other except blocks "
   ]
  },
  {
   "cell_type": "code",
   "execution_count": 13,
   "id": "e1a069ec",
   "metadata": {},
   "outputs": [
    {
     "name": "stdout",
     "output_type": "stream",
     "text": [
      "age: 0\n"
     ]
    },
    {
     "ename": "ZeroDivisionError",
     "evalue": "division by zero",
     "output_type": "error",
     "traceback": [
      "\u001b[1;31m---------------------------------------------------------------------------\u001b[0m",
      "\u001b[1;31mZeroDivisionError\u001b[0m                         Traceback (most recent call last)",
      "Input \u001b[1;32mIn [13]\u001b[0m, in \u001b[0;36m<cell line: 1>\u001b[1;34m()\u001b[0m\n\u001b[0;32m      2\u001b[0m    age \u001b[38;5;241m=\u001b[39m \u001b[38;5;28mint\u001b[39m(\u001b[38;5;28minput\u001b[39m(\u001b[38;5;124m'\u001b[39m\u001b[38;5;124mage: \u001b[39m\u001b[38;5;124m'\u001b[39m))\n\u001b[0;32m      3\u001b[0m    income \u001b[38;5;241m=\u001b[39m \u001b[38;5;241m20000\u001b[39m\n\u001b[1;32m----> 4\u001b[0m    x \u001b[38;5;241m=\u001b[39m \u001b[43mincome\u001b[49m\u001b[38;5;241;43m/\u001b[39;49m\u001b[43mage\u001b[49m\n\u001b[0;32m      5\u001b[0m    \u001b[38;5;28mprint\u001b[39m(age)\n\u001b[0;32m      8\u001b[0m \u001b[38;5;66;03m# here we mentioned only one type of error so here for other errors it won't work\u001b[39;00m\n",
      "\u001b[1;31mZeroDivisionError\u001b[0m: division by zero"
     ]
    }
   ],
   "source": [
    "try :        \n",
    "    age = int(input('age: '))\n",
    "    income = 20000\n",
    "    x = income/age\n",
    "    print(age)\n",
    "    \n",
    "    \n",
    " # here we mentioned only one type of error so here for other errors it won't work\n",
    "\n",
    "except ValueError:     \n",
    "    print('Invalid value')         "
   ]
  },
  {
   "cell_type": "code",
   "execution_count": 14,
   "id": "a422b406",
   "metadata": {},
   "outputs": [
    {
     "name": "stdout",
     "output_type": "stream",
     "text": [
      "age: 0\n",
      "please enter number more than zero\n"
     ]
    }
   ],
   "source": [
    "try :        \n",
    "    age = int(input('age: '))\n",
    "    income = 20000\n",
    "    x = income/age\n",
    "    print(age)\n",
    "    \n",
    "except ValueError:     \n",
    "    print('Invalid value')  \n",
    "except ZeroDivisionError:           # we added except for this error ZeroDivisionError too \n",
    "    print('please enter number more than zero')"
   ]
  },
  {
   "cell_type": "code",
   "execution_count": null,
   "id": "55765b8c",
   "metadata": {},
   "outputs": [],
   "source": []
  }
 ],
 "metadata": {
  "kernelspec": {
   "display_name": "Python 3 (ipykernel)",
   "language": "python",
   "name": "python3"
  },
  "language_info": {
   "codemirror_mode": {
    "name": "ipython",
    "version": 3
   },
   "file_extension": ".py",
   "mimetype": "text/x-python",
   "name": "python",
   "nbconvert_exporter": "python",
   "pygments_lexer": "ipython3",
   "version": "3.9.12"
  }
 },
 "nbformat": 4,
 "nbformat_minor": 5
}
