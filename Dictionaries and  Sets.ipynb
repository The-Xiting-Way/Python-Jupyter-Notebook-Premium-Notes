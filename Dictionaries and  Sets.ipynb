{
 "cells": [
  {
   "cell_type": "markdown",
   "id": "e9b1ab9f",
   "metadata": {},
   "source": [
    "### Dictionaries\n",
    "\n",
    "Dictionaries in python is just like dictionaries in real life.\n",
    "\n",
    "In real life dictionary we have key words like-:\n",
    "\n",
    "##### indeed :\n",
    "        (used for emphasizing a positive statement or answer) really; certainly\n",
    "        \n",
    "##### here indeed is a keyword and its meaning written infront of it is its Value\n",
    "\n",
    "###### we use same concept of keywords and Values in dictionaries in python"
   ]
  },
  {
   "cell_type": "code",
   "execution_count": 2,
   "id": "7832f4bc",
   "metadata": {},
   "outputs": [
    {
     "name": "stdout",
     "output_type": "stream",
     "text": [
      "{'aryan': 'a boy', 'selena': 'a girl', 'raghav': 'a boy', 'moon': 'chakka'}\n",
      "a boy\n",
      "a girl\n"
     ]
    }
   ],
   "source": [
    "mydict= {'aryan':'a boy',\n",
    "        'selena':'a girl',\n",
    "        'raghav':'a boy'\n",
    "    \n",
    "          }\n",
    "mydict[\"moon\"]=\"chakka\"\n",
    "print(mydict)\n",
    "print(mydict['aryan'])\n",
    "print(mydict['selena'])  "
   ]
  },
  {
   "cell_type": "markdown",
   "id": "9fcf2ef0",
   "metadata": {},
   "source": [
    "##### empty dictionary"
   ]
  },
  {
   "cell_type": "code",
   "execution_count": 13,
   "id": "3f5884fc",
   "metadata": {},
   "outputs": [
    {
     "name": "stdout",
     "output_type": "stream",
     "text": [
      "<class 'dict'>\n"
     ]
    }
   ],
   "source": [
    "a = {}\n",
    "print(type(a))"
   ]
  },
  {
   "cell_type": "markdown",
   "id": "7da61259",
   "metadata": {},
   "source": [
    "###### you can also add List as value of keywords"
   ]
  },
  {
   "cell_type": "code",
   "execution_count": 4,
   "id": "2409ff03",
   "metadata": {},
   "outputs": [
    {
     "name": "stdout",
     "output_type": "stream",
     "text": [
      "a boy\n",
      "['a girl', '25 years old', 13]\n"
     ]
    }
   ],
   "source": [
    "anotherdict= {'aryan':'a boy',\n",
    "              'selena':['a girl', '25 years old', 13],\n",
    "               'raghav':'a boy' }\n",
    "\n",
    "print(anotherdict['aryan'])\n",
    "print(anotherdict['selena'])"
   ]
  },
  {
   "cell_type": "markdown",
   "id": "a176d946",
   "metadata": {},
   "source": [
    "### Nested dictionaries"
   ]
  },
  {
   "cell_type": "code",
   "execution_count": 33,
   "id": "de38caad",
   "metadata": {},
   "outputs": [
    {
     "name": "stdout",
     "output_type": "stream",
     "text": [
      "{'aryan': 'a boy', 'selena': 'a girl', 'raghav': 'a boy'}\n",
      "a boy\n"
     ]
    }
   ],
   "source": [
    "anotherdict= {'fast':'in a quick way',\n",
    "              'mydict': {'aryan':'a boy',\n",
    "                        'selena':'a girl',\n",
    "                        'raghav':'a boy'}\n",
    "             }\n",
    "             \n",
    "print(anotherdict['mydict'])\n",
    "\n",
    "# you acan also access a item in subdictionary\n",
    "\n",
    "print(anotherdict['mydict']['aryan'])"
   ]
  },
  {
   "cell_type": "markdown",
   "id": "87399452",
   "metadata": {},
   "source": [
    "#### Properties of dictionaries in python\n",
    "\n",
    "1. Dictionaries are unordered , no numbering of items\n",
    "2. It is mutable\n",
    "3. It is indexed\n",
    "4. it can not contain duplicte keys or keywords"
   ]
  },
  {
   "cell_type": "markdown",
   "id": "f2ddf3a6",
   "metadata": {},
   "source": [
    "###### Changing items in Dictionaries"
   ]
  },
  {
   "cell_type": "code",
   "execution_count": 36,
   "id": "4a04f508",
   "metadata": {},
   "outputs": [
    {
     "name": "stdout",
     "output_type": "stream",
     "text": [
      "a man\n"
     ]
    }
   ],
   "source": [
    "mydict= {'aryan':'a boy',\n",
    "        'selena':'a girl',\n",
    "        'raghav':'a boy'\n",
    "    \n",
    "          }\n",
    "\n",
    "mydict['aryan']= 'a man'\n",
    "print(mydict['aryan'])"
   ]
  },
  {
   "cell_type": "markdown",
   "id": "f55cb18d",
   "metadata": {},
   "source": [
    "## Dict. methods"
   ]
  },
  {
   "cell_type": "markdown",
   "id": "b6abd585",
   "metadata": {},
   "source": [
    "##### .keys() = it returns all keys or keywords in the form of list or dict_keys"
   ]
  },
  {
   "cell_type": "code",
   "execution_count": 44,
   "id": "ca355cb2",
   "metadata": {},
   "outputs": [
    {
     "name": "stdout",
     "output_type": "stream",
     "text": [
      "dict_keys(['aryan', 'selena', 'raghav'])\n",
      "<class 'dict_keys'>\n",
      "['aryan', 'selena', 'raghav']\n"
     ]
    }
   ],
   "source": [
    "mydict= {'aryan':'a boy',\n",
    "        'selena':'a girl',\n",
    "        'raghav':'a boy'\n",
    "    \n",
    "          }\n",
    "\n",
    "print(mydict.keys())\n",
    "print(type(mydict.keys()))  # its type is not list \n",
    "\n",
    "print(list(mydict.keys()))  # But you can change type from dict_keys to List"
   ]
  },
  {
   "cell_type": "markdown",
   "id": "f7947d49",
   "metadata": {},
   "source": [
    "##### .values() = it returns the values of keys in the form of list or dict_values"
   ]
  },
  {
   "cell_type": "code",
   "execution_count": 52,
   "id": "cc71fb7a",
   "metadata": {},
   "outputs": [
    {
     "name": "stdout",
     "output_type": "stream",
     "text": [
      "dict_values(['a boy', 'a girl', 'a boy'])\n",
      "<class 'dict_values'>\n",
      "['a boy', 'a girl', 'a boy']\n"
     ]
    }
   ],
   "source": [
    "mydict= {'aryan':'a boy',\n",
    "        'selena':'a girl',\n",
    "        'raghav':'a boy'\n",
    "    \n",
    "          }\n",
    "\n",
    "print(mydict.values())\n",
    "print(type(mydict.values()))  # its type is not list \n",
    "\n",
    "# But you can change type from dict_values to List\n",
    "print(list(mydict.values()))"
   ]
  },
  {
   "cell_type": "markdown",
   "id": "99667d04",
   "metadata": {},
   "source": [
    "##### .items() = it returns all items in the form of Tuples"
   ]
  },
  {
   "cell_type": "code",
   "execution_count": 51,
   "id": "4df48137",
   "metadata": {},
   "outputs": [
    {
     "name": "stdout",
     "output_type": "stream",
     "text": [
      "dict_items([('aryan', 'a boy'), ('selena', 'a girl'), ('raghav', 'a boy')])\n",
      "<class 'dict_items'>\n",
      "(('aryan', 'a boy'), ('selena', 'a girl'), ('raghav', 'a boy'))\n"
     ]
    }
   ],
   "source": [
    "mydict= {'aryan':'a boy',\n",
    "        'selena':'a girl',\n",
    "        'raghav':'a boy'\n",
    "    \n",
    "          }\n",
    "\n",
    "print(mydict.items())\n",
    "print(type(mydict.items()))  # its type is not tuple\n",
    "\n",
    "# But you can change type from dict_items to tuple\n",
    "print(tuple(mydict.items())) "
   ]
  },
  {
   "cell_type": "markdown",
   "id": "c3d86276",
   "metadata": {},
   "source": [
    "###### .update() = it updates the dictionary with new items"
   ]
  },
  {
   "cell_type": "code",
   "execution_count": 27,
   "id": "334d8eb0",
   "metadata": {},
   "outputs": [
    {
     "name": "stdout",
     "output_type": "stream",
     "text": [
      "{'aryan': 'a boy', 'selena': 'a girl', 'raghav': 'a boy', 'saint jhn': 'man'}\n"
     ]
    }
   ],
   "source": [
    "mydict= {'aryan':'a boy',\n",
    "        'selena':'a girl',\n",
    "        'raghav':'a boy' }\n",
    "\n",
    "mydict.update({'saint jhn':'man'})\n",
    "\n",
    "print(mydict)"
   ]
  },
  {
   "cell_type": "markdown",
   "id": "1d5309ad",
   "metadata": {},
   "source": [
    "###### get() = it simply gives value to keys but when given undefined key it gives output as none not error\n",
    "\n",
    "get(x,y) = in x write key to which you want value and in y write what value to give if that key doesn't exists , by default its none"
   ]
  },
  {
   "cell_type": "code",
   "execution_count": 42,
   "id": "e3b2b243",
   "metadata": {},
   "outputs": [
    {
     "name": "stdout",
     "output_type": "stream",
     "text": [
      "None\n"
     ]
    }
   ],
   "source": [
    "# with .get()\n",
    "\n",
    "mydict= {'aryan':'a boy',\n",
    "        'selena':'a girl',\n",
    "        'raghav':'a boy' }\n",
    "\n",
    "print(mydict.get('moon'))"
   ]
  },
  {
   "cell_type": "code",
   "execution_count": 17,
   "id": "b3c04ef6",
   "metadata": {},
   "outputs": [
    {
     "name": "stdout",
     "output_type": "stream",
     "text": [
      "sorry it does not exists\n"
     ]
    }
   ],
   "source": [
    "mydict= {'aryan':'a boy',\n",
    "        'selena':'a girl',\n",
    "        'raghav':'a boy' }\n",
    "\n",
    "print(mydict.get('moon','sorry it does not exists'))"
   ]
  },
  {
   "cell_type": "code",
   "execution_count": 40,
   "id": "ef8641d8",
   "metadata": {},
   "outputs": [
    {
     "ename": "KeyError",
     "evalue": "'moon'",
     "output_type": "error",
     "traceback": [
      "\u001b[1;31m---------------------------------------------------------------------------\u001b[0m",
      "\u001b[1;31mKeyError\u001b[0m                                  Traceback (most recent call last)",
      "Input \u001b[1;32mIn [40]\u001b[0m, in \u001b[0;36m<cell line: 5>\u001b[1;34m()\u001b[0m\n\u001b[0;32m      1\u001b[0m mydict\u001b[38;5;241m=\u001b[39m {\u001b[38;5;124m'\u001b[39m\u001b[38;5;124maryan\u001b[39m\u001b[38;5;124m'\u001b[39m:\u001b[38;5;124m'\u001b[39m\u001b[38;5;124ma boy\u001b[39m\u001b[38;5;124m'\u001b[39m,\n\u001b[0;32m      2\u001b[0m         \u001b[38;5;124m'\u001b[39m\u001b[38;5;124mselena\u001b[39m\u001b[38;5;124m'\u001b[39m:\u001b[38;5;124m'\u001b[39m\u001b[38;5;124ma girl\u001b[39m\u001b[38;5;124m'\u001b[39m,\n\u001b[0;32m      3\u001b[0m         \u001b[38;5;124m'\u001b[39m\u001b[38;5;124mraghav\u001b[39m\u001b[38;5;124m'\u001b[39m:\u001b[38;5;124m'\u001b[39m\u001b[38;5;124ma boy\u001b[39m\u001b[38;5;124m'\u001b[39m }\n\u001b[1;32m----> 5\u001b[0m \u001b[38;5;28mprint\u001b[39m(\u001b[43mmydict\u001b[49m\u001b[43m[\u001b[49m\u001b[38;5;124;43m'\u001b[39;49m\u001b[38;5;124;43mmoon\u001b[39;49m\u001b[38;5;124;43m'\u001b[39;49m\u001b[43m]\u001b[49m)\n",
      "\u001b[1;31mKeyError\u001b[0m: 'moon'"
     ]
    }
   ],
   "source": [
    "# without .get()\n",
    "\n",
    "mydict= {'aryan':'a boy',\n",
    "        'selena':'a girl',\n",
    "        'raghav':'a boy' }\n",
    "\n",
    "print(mydict['moon'])"
   ]
  },
  {
   "cell_type": "markdown",
   "id": "a930b4c6",
   "metadata": {},
   "source": [
    "### String is iterable , integer is not iterable"
   ]
  },
  {
   "cell_type": "code",
   "execution_count": 48,
   "id": "c39a2a10",
   "metadata": {},
   "outputs": [
    {
     "name": "stdout",
     "output_type": "stream",
     "text": [
      "here 12\n",
      "1\n",
      "2\n"
     ]
    }
   ],
   "source": [
    "x = input ('here ')\n",
    "for item in x:\n",
    "    print(item)"
   ]
  },
  {
   "cell_type": "code",
   "execution_count": 49,
   "id": "943d2cc8",
   "metadata": {},
   "outputs": [
    {
     "name": "stdout",
     "output_type": "stream",
     "text": [
      "here 12\n"
     ]
    },
    {
     "ename": "TypeError",
     "evalue": "'int' object is not iterable",
     "output_type": "error",
     "traceback": [
      "\u001b[1;31m---------------------------------------------------------------------------\u001b[0m",
      "\u001b[1;31mTypeError\u001b[0m                                 Traceback (most recent call last)",
      "Input \u001b[1;32mIn [49]\u001b[0m, in \u001b[0;36m<cell line: 2>\u001b[1;34m()\u001b[0m\n\u001b[0;32m      1\u001b[0m x \u001b[38;5;241m=\u001b[39m \u001b[38;5;28mint\u001b[39m(\u001b[38;5;28minput\u001b[39m (\u001b[38;5;124m'\u001b[39m\u001b[38;5;124mhere \u001b[39m\u001b[38;5;124m'\u001b[39m))\n\u001b[1;32m----> 2\u001b[0m \u001b[38;5;28;01mfor\u001b[39;00m item \u001b[38;5;129;01min\u001b[39;00m x:\n\u001b[0;32m      3\u001b[0m     \u001b[38;5;28mprint\u001b[39m(item)\n",
      "\u001b[1;31mTypeError\u001b[0m: 'int' object is not iterable"
     ]
    }
   ],
   "source": [
    "x = int(input ('here '))\n",
    "for item in x:\n",
    "    print(item)"
   ]
  },
  {
   "cell_type": "markdown",
   "id": "85a0fadc",
   "metadata": {},
   "source": [
    "#### program to print phone number in words"
   ]
  },
  {
   "cell_type": "code",
   "execution_count": 47,
   "id": "384ff7f8",
   "metadata": {},
   "outputs": [
    {
     "name": "stdout",
     "output_type": "stream",
     "text": [
      "phone no 156\n",
      "one\n",
      "five\n",
      "six\n"
     ]
    }
   ],
   "source": [
    " ### Integers are not iterable so we will use numbers as strings her \n",
    "    \n",
    "message = input('phone no ')   \n",
    "\n",
    "a = {'1':'one','2': 'two','3':'three','4':'four','5':'five', '6':'six',\n",
    "     '7':'seven',\n",
    "      '8':'eight',\n",
    "      '9':'nine' }\n",
    "\n",
    "output=''\n",
    "for number in message:       # int data type don't works in loops\n",
    "    output = a.get(number)   # ' ' is space\n",
    "    print(output)    \n",
    "    \n",
    "# using print outside for loop will only print final output that is six   "
   ]
  },
  {
   "cell_type": "code",
   "execution_count": 46,
   "id": "ffe35b42",
   "metadata": {
    "scrolled": true
   },
   "outputs": [
    {
     "name": "stdout",
     "output_type": "stream",
     "text": [
      "phone no 156\n",
      "six\n"
     ]
    }
   ],
   "source": [
    "# print outside for loop\n",
    "\n",
    "message = input('phone no ')    \n",
    "\n",
    "a = {'1':'one','2': 'two','3':'three','4':'four','5':'five', '6':'six',\n",
    "     '7':'seven',\n",
    "      '8':'eight',\n",
    "      '9':'nine' }\n",
    "\n",
    "output=''\n",
    "for number in message:       # int data type don't works in loops\n",
    "    output = a.get(number)   # ' ' is space\n",
    "print(output)    \n",
    "    \n",
    "# using print outside for loop will only print final output that is six   "
   ]
  },
  {
   "cell_type": "markdown",
   "id": "52c01e2b",
   "metadata": {},
   "source": [
    "## Sets"
   ]
  },
  {
   "cell_type": "code",
   "execution_count": 10,
   "id": "1a75136b",
   "metadata": {},
   "outputs": [
    {
     "name": "stdout",
     "output_type": "stream",
     "text": [
      "<class 'set'>\n"
     ]
    }
   ],
   "source": [
    "a = {1,2,3,4,5}\n",
    "print(type(a))"
   ]
  },
  {
   "cell_type": "markdown",
   "id": "ffa7bb10",
   "metadata": {},
   "source": [
    "#### Set doesn't contains repititive items and ignores all repititve items"
   ]
  },
  {
   "cell_type": "code",
   "execution_count": 12,
   "id": "467f2b9a",
   "metadata": {},
   "outputs": [
    {
     "name": "stdout",
     "output_type": "stream",
     "text": [
      "{'a', 1, 2, 3, 4, 5}\n"
     ]
    }
   ],
   "source": [
    "a = {1,2,3,4,5,1,1,1,1,'a','a'}\n",
    "print(a)"
   ]
  },
  {
   "cell_type": "markdown",
   "id": "d3ac1bb6",
   "metadata": {},
   "source": [
    "##### empty set -: note that {} is empty dictionary not empty set"
   ]
  },
  {
   "cell_type": "code",
   "execution_count": 15,
   "id": "092daeb9",
   "metadata": {},
   "outputs": [
    {
     "name": "stdout",
     "output_type": "stream",
     "text": [
      "<class 'set'>\n",
      "<class 'dict'>\n"
     ]
    }
   ],
   "source": [
    "a = set()  \n",
    "b = {}\n",
    "\n",
    "print(type(a))\n",
    "print(type(b))"
   ]
  },
  {
   "cell_type": "markdown",
   "id": "aff5c3a5",
   "metadata": {},
   "source": [
    "#### Set properties:\n",
    "1. sets are unordered\n",
    "2. sets are unindexed\n",
    "3. There is no way to change items in sets\n",
    "4. sets can not contain duplicate values"
   ]
  },
  {
   "cell_type": "markdown",
   "id": "a64c77bc",
   "metadata": {},
   "source": [
    "### Set methods"
   ]
  },
  {
   "cell_type": "markdown",
   "id": "ec060a7d",
   "metadata": {},
   "source": [
    "###### .add() = to  add item in a set"
   ]
  },
  {
   "cell_type": "code",
   "execution_count": 3,
   "id": "c61954d0",
   "metadata": {},
   "outputs": [
    {
     "name": "stdout",
     "output_type": "stream",
     "text": [
      "{1, 2, 3, 4, 5}\n"
     ]
    }
   ],
   "source": [
    "a = set()\n",
    "a.add(5)\n",
    "a.add(1)\n",
    "a.add(2)\n",
    "a.add(3)\n",
    "a.add(4)\n",
    "print(a)"
   ]
  },
  {
   "cell_type": "markdown",
   "id": "c7bda8bf",
   "metadata": {},
   "source": [
    "###### You can't add hashable objects (which can be modified in future) in sets which means you can't add lists, dictionaries in it but you can add tuples"
   ]
  },
  {
   "cell_type": "code",
   "execution_count": 19,
   "id": "714d3da7",
   "metadata": {},
   "outputs": [
    {
     "ename": "TypeError",
     "evalue": "unhashable type: 'list'",
     "output_type": "error",
     "traceback": [
      "\u001b[1;31m---------------------------------------------------------------------------\u001b[0m",
      "\u001b[1;31mTypeError\u001b[0m                                 Traceback (most recent call last)",
      "Input \u001b[1;32mIn [19]\u001b[0m, in \u001b[0;36m<cell line: 2>\u001b[1;34m()\u001b[0m\n\u001b[0;32m      1\u001b[0m a \u001b[38;5;241m=\u001b[39m \u001b[38;5;28mset\u001b[39m()\n\u001b[1;32m----> 2\u001b[0m \u001b[43ma\u001b[49m\u001b[38;5;241;43m.\u001b[39;49m\u001b[43madd\u001b[49m\u001b[43m(\u001b[49m\u001b[43m[\u001b[49m\u001b[38;5;241;43m1\u001b[39;49m\u001b[43m,\u001b[49m\u001b[38;5;241;43m2\u001b[39;49m\u001b[43m,\u001b[49m\u001b[38;5;241;43m2\u001b[39;49m\u001b[43m]\u001b[49m\u001b[43m)\u001b[49m\n",
      "\u001b[1;31mTypeError\u001b[0m: unhashable type: 'list'"
     ]
    }
   ],
   "source": [
    "a = set()\n",
    "a.add([1,2,2])\n",
    "print(a)"
   ]
  },
  {
   "cell_type": "code",
   "execution_count": 23,
   "id": "7f78c930",
   "metadata": {},
   "outputs": [
    {
     "ename": "TypeError",
     "evalue": "unhashable type: 'dict'",
     "output_type": "error",
     "traceback": [
      "\u001b[1;31m---------------------------------------------------------------------------\u001b[0m",
      "\u001b[1;31mTypeError\u001b[0m                                 Traceback (most recent call last)",
      "Input \u001b[1;32mIn [23]\u001b[0m, in \u001b[0;36m<cell line: 2>\u001b[1;34m()\u001b[0m\n\u001b[0;32m      1\u001b[0m a \u001b[38;5;241m=\u001b[39m \u001b[38;5;28mset\u001b[39m()\n\u001b[1;32m----> 2\u001b[0m \u001b[43ma\u001b[49m\u001b[38;5;241;43m.\u001b[39;49m\u001b[43madd\u001b[49m\u001b[43m(\u001b[49m\u001b[43m{\u001b[49m\u001b[38;5;124;43m'\u001b[39;49m\u001b[38;5;124;43ma\u001b[39;49m\u001b[38;5;124;43m'\u001b[39;49m\u001b[43m:\u001b[49m\u001b[38;5;241;43m1\u001b[39;49m\u001b[43m,\u001b[49m\u001b[38;5;124;43m'\u001b[39;49m\u001b[38;5;124;43mb\u001b[39;49m\u001b[38;5;124;43m'\u001b[39;49m\u001b[43m:\u001b[49m\u001b[38;5;241;43m2\u001b[39;49m\u001b[43m}\u001b[49m\u001b[43m)\u001b[49m\n\u001b[0;32m      3\u001b[0m \u001b[38;5;28mprint\u001b[39m(a)\n",
      "\u001b[1;31mTypeError\u001b[0m: unhashable type: 'dict'"
     ]
    }
   ],
   "source": [
    "a = set()\n",
    "a.add({'a':1,'b':2})\n",
    "print(a)"
   ]
  },
  {
   "cell_type": "code",
   "execution_count": 21,
   "id": "e9020ca4",
   "metadata": {},
   "outputs": [
    {
     "name": "stdout",
     "output_type": "stream",
     "text": [
      "{(1, 2, 2)}\n"
     ]
    }
   ],
   "source": [
    "a = set()\n",
    "a.add((1,2,2))\n",
    "print(a)"
   ]
  },
  {
   "cell_type": "markdown",
   "id": "f598423d",
   "metadata": {},
   "source": [
    "######  len()= prints the length of the set"
   ]
  },
  {
   "cell_type": "code",
   "execution_count": 28,
   "id": "8e5aac4f",
   "metadata": {},
   "outputs": [
    {
     "name": "stdout",
     "output_type": "stream",
     "text": [
      "4\n"
     ]
    }
   ],
   "source": [
    "a = {1,2,3,4}\n",
    "print(len(a))   # len is universal method can be used far tuples,list,etc too"
   ]
  },
  {
   "cell_type": "markdown",
   "id": "f99c81d3",
   "metadata": {},
   "source": [
    "###### .remove() = removes the item from set"
   ]
  },
  {
   "cell_type": "code",
   "execution_count": 31,
   "id": "2a382107",
   "metadata": {},
   "outputs": [
    {
     "name": "stdout",
     "output_type": "stream",
     "text": [
      "{1, 2, 3}\n"
     ]
    }
   ],
   "source": [
    "a = {1,2,3,4}\n",
    "a.remove(4)\n",
    "print(a)"
   ]
  },
  {
   "cell_type": "markdown",
   "id": "4a8842bc",
   "metadata": {},
   "source": [
    "###### .pop() = removes an arbitary or random item in set, its not same like .pop() in list not last item like in list"
   ]
  },
  {
   "cell_type": "code",
   "execution_count": 5,
   "id": "bdfa0833",
   "metadata": {},
   "outputs": [
    {
     "name": "stdout",
     "output_type": "stream",
     "text": [
      "{2, 3, 4}\n"
     ]
    }
   ],
   "source": [
    "a = {1,2,3,4}\n",
    "a.pop()\n",
    "print(a)"
   ]
  },
  {
   "cell_type": "markdown",
   "id": "341b1abe",
   "metadata": {},
   "source": [
    "###### .clear = it emptys the set "
   ]
  },
  {
   "cell_type": "code",
   "execution_count": 36,
   "id": "42130818",
   "metadata": {},
   "outputs": [
    {
     "name": "stdout",
     "output_type": "stream",
     "text": [
      "set()\n"
     ]
    }
   ],
   "source": [
    "a = {1,2,3,4}\n",
    "a.clear()\n",
    "print(a)"
   ]
  },
  {
   "cell_type": "markdown",
   "id": "17201483",
   "metadata": {},
   "source": [
    "###### .union() = returns a new set with all items from both sets only at one repitition"
   ]
  },
  {
   "cell_type": "code",
   "execution_count": 38,
   "id": "3220aae5",
   "metadata": {},
   "outputs": [
    {
     "name": "stdout",
     "output_type": "stream",
     "text": [
      "{1, 2, 3, 4, 5, 6, 7, 8, 9}\n"
     ]
    }
   ],
   "source": [
    "a = {1,2,3,4}\n",
    "b ={1,2,3,4,5,6,7,8,9}\n",
    "\n",
    "print(a.union(b))"
   ]
  },
  {
   "cell_type": "markdown",
   "id": "0ab87efe",
   "metadata": {},
   "source": [
    "###### .intersection()=  returns a new set with only common items between both the sets"
   ]
  },
  {
   "cell_type": "code",
   "execution_count": 1,
   "id": "b70de320",
   "metadata": {},
   "outputs": [
    {
     "name": "stdout",
     "output_type": "stream",
     "text": [
      "{1, 2, 3, 4}\n"
     ]
    }
   ],
   "source": [
    "a = {1,2,3,4}\n",
    "b ={1,2,3,4,5,6,7,8,9}\n",
    "\n",
    "print(a.intersection(b))"
   ]
  },
  {
   "cell_type": "code",
   "execution_count": 22,
   "id": "fc0a455d",
   "metadata": {},
   "outputs": [
    {
     "name": "stdout",
     "output_type": "stream",
     "text": [
      "{'tiger', 'dog', 'lion', 'cat', 'mouse'}\n",
      "tiger\n",
      "dog\n",
      "lion\n",
      "cat\n",
      "mouse\n"
     ]
    }
   ],
   "source": [
    "a = set()\n",
    "a.add('cat')\n",
    "a.update(['dog','mouse'],['lion'],['tiger'])\n",
    "print(a)\n",
    "for i in a:\n",
    "    print(i)"
   ]
  },
  {
   "cell_type": "code",
   "execution_count": 14,
   "id": "932b7f17",
   "metadata": {},
   "outputs": [
    {
     "name": "stdout",
     "output_type": "stream",
     "text": [
      "{'C', 'Go'}\n"
     ]
    }
   ],
   "source": [
    "A = {'Python', 'JavaScript', 'Go'}\n",
    "B = {'Python', 'JavaScript','C' }\n",
    "C = A.symmetric_difference(B)\n",
    "print(C)"
   ]
  },
  {
   "cell_type": "code",
   "execution_count": 13,
   "id": "fe504d55",
   "metadata": {},
   "outputs": [
    {
     "name": "stdout",
     "output_type": "stream",
     "text": [
      "{'Go'}\n"
     ]
    }
   ],
   "source": [
    "A = {'Python', 'JavaScript', 'Go'}\n",
    "B = {'Python', 'JavaScript','C' }\n",
    "C = A.difference(B)\n",
    "print(C)"
   ]
  },
  {
   "cell_type": "code",
   "execution_count": null,
   "id": "24876938",
   "metadata": {},
   "outputs": [],
   "source": []
  }
 ],
 "metadata": {
  "kernelspec": {
   "display_name": "Python 3 (ipykernel)",
   "language": "python",
   "name": "python3"
  },
  "language_info": {
   "codemirror_mode": {
    "name": "ipython",
    "version": 3
   },
   "file_extension": ".py",
   "mimetype": "text/x-python",
   "name": "python",
   "nbconvert_exporter": "python",
   "pygments_lexer": "ipython3",
   "version": "3.9.13"
  }
 },
 "nbformat": 4,
 "nbformat_minor": 5
}
