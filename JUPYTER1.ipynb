{
 "cells": [
  {
   "cell_type": "code",
   "execution_count": 1,
   "id": "19199b3a",
   "metadata": {},
   "outputs": [
    {
     "name": "stdout",
     "output_type": "stream",
     "text": [
      "hello world\n"
     ]
    }
   ],
   "source": [
    "print('hello world')"
   ]
  },
  {
   "cell_type": "code",
   "execution_count": 2,
   "id": "afe6dcd7",
   "metadata": {},
   "outputs": [],
   "source": [
    "# using # or cltrl + / we can write comments"
   ]
  },
  {
   "cell_type": "code",
   "execution_count": 3,
   "id": "40484537",
   "metadata": {},
   "outputs": [],
   "source": [
    "# using Shift + Enter will move us to next cell\n",
    "# using cltrl + ENTER will execute the command but not move us to a new cell"
   ]
  },
  {
   "cell_type": "code",
   "execution_count": 4,
   "id": "401e8957",
   "metadata": {},
   "outputs": [],
   "source": [
    "# inside In [] is the no. of times you executed a command"
   ]
  },
  {
   "cell_type": "code",
   "execution_count": 5,
   "id": "d81a6051",
   "metadata": {},
   "outputs": [],
   "source": [
    "# we use markup cell to add text to our program \n",
    "# using #+ Space in markup cell gives us heading \n",
    "# 3 = h1, ## = h2, ### =h3 and so on"
   ]
  },
  {
   "cell_type": "code",
   "execution_count": 6,
   "id": "5ff0875b",
   "metadata": {},
   "outputs": [],
   "source": [
    "# When border of box of cell is green its edit mode where we can add text or code \n",
    "# When border of box of cell is blue its command mode\n",
    "# Press dd to delete a cell but it works only in command mode\n",
    "# press 1 in command mode to give h1, 2 to h1 and so on without changing using mouse\n",
    "\n",
    "\n",
    "# TO COME IN COMMAND MODE CLICK ON GREEN BORDER OF CELL OR RUN THE CODE OR CELL"
   ]
  },
  {
   "cell_type": "markdown",
   "id": "257be07c",
   "metadata": {},
   "source": [
    "# First program"
   ]
  },
  {
   "cell_type": "code",
   "execution_count": 1,
   "id": "d18e4072",
   "metadata": {},
   "outputs": [
    {
     "name": "stdout",
     "output_type": "stream",
     "text": [
      "this is our first program\n"
     ]
    }
   ],
   "source": [
    "print('this is our first program')"
   ]
  },
  {
   "cell_type": "markdown",
   "id": "9e3c56d1",
   "metadata": {},
   "source": [
    "# Arithmetic operatins that will help us"
   ]
  },
  {
   "cell_type": "code",
   "execution_count": 2,
   "id": "724c61cd",
   "metadata": {},
   "outputs": [
    {
     "name": "stdout",
     "output_type": "stream",
     "text": [
      "5 is addition\n",
      "-1 is substraction\n",
      "6 is multiplication\n",
      "8 is exponential value a^b\n",
      "0.6666666666666666 is division\n",
      "0 is quotient\n",
      "2 is modoulas i.e remainder\n"
     ]
    }
   ],
   "source": [
    "a = 2\n",
    "b = 3\n",
    "print(a+b, \"is addition\")\n",
    "print(a-b, \"is substraction\")\n",
    "print(a*b, \"is multiplication\")\n",
    "print(a**b, \"is exponential value a^b\")\n",
    "print(a/b, \"is division\")\n",
    "print(a//b, \"is floor division\")\n",
    "print(a%b, \"is modoulas i.e remainder\")"
   ]
  },
  {
   "cell_type": "markdown",
   "id": "7bee7432",
   "metadata": {},
   "source": [
    "# variables  "
   ]
  },
  {
   "cell_type": "code",
   "execution_count": 4,
   "id": "d29e57c0",
   "metadata": {},
   "outputs": [],
   "source": [
    "# variable are identification far stored values in them far memory\n",
    "#don't use variable that are predefined syntaxes in python\n",
    "# one variable can't have different values"
   ]
  },
  {
   "cell_type": "markdown",
   "id": "f71c282c",
   "metadata": {},
   "source": [
    "# Data types "
   ]
  },
  {
   "cell_type": "code",
   "execution_count": 5,
   "id": "a51b97c2",
   "metadata": {},
   "outputs": [],
   "source": [
    "# we have different data types i.e 'int', 'float', 'characters or string', 'boolean',etc"
   ]
  },
  {
   "cell_type": "code",
   "execution_count": 6,
   "id": "b7948a85",
   "metadata": {},
   "outputs": [],
   "source": [
    "#In python, type of variable is interpreted by python itself and we don't need to define them like in c "
   ]
  },
  {
   "cell_type": "markdown",
   "id": "a946c793",
   "metadata": {},
   "source": [
    "## Basic type of data types in python\n",
    "\n",
    "           \n",
    "          #Data type   =   example\n",
    "          \n",
    "         *integer = 5, 10, 2, 0, 9\n",
    "         *float  = 5.55, 4.23 7.77\n",
    "         *complex = 3+4j, 2j ( NOTE THAT J = i = iota or imaginary no. part)\n",
    "         *boolean= true, false  \n",
    "         *string = ' hello world' , '123' , '12a' ( NOTE that anything inside \"\" is string or character even a \"123\" too\n",
    "         * list = [ 1, 2, 3, 'hello world', true ]\n",
    "         *tuple= (1,2,3, 'heello world', true)\n",
    "         * set = {1,2,3, 'hello world', true}\n",
    "         * dictionary = { 1:'hello world',2:'aryan'}\n",
    "         \n",
    "   ### list is mutable or changeable it means we can change values inside list \n",
    "   "
   ]
  },
  {
   "cell_type": "code",
   "execution_count": 37,
   "id": "38e01559",
   "metadata": {},
   "outputs": [
    {
     "name": "stdout",
     "output_type": "stream",
     "text": [
      "<class 'float'>\n",
      "<class 'bool'>\n",
      "<class 'complex'>\n",
      "<class 'bool'>\n",
      "<class 'str'>\n",
      "<class 'list'>\n",
      "<class 'tuple'>\n",
      "<class 'set'>\n",
      "<class 'dict'>\n"
     ]
    }
   ],
   "source": [
    "# we use type () function to specify the data type of the variable\n",
    "\n",
    "\n",
    "c= 1.5\n",
    "d= True\n",
    "e=1+1j\n",
    "f=True \n",
    "\n",
    "\n",
    "# IMP note that true, TRUE , True are not same only True represents boolean data TRUE or true are not coorect\n",
    "# Similarly false, FALSE, False are not same only False represents boolean data FALSE or false are not coorect\n",
    "\n",
    "\n",
    "g='123'\n",
    "h=[ 1, 2, 3, 'hello world', True ]\n",
    "i= (1,2,3, 'heello world', True)\n",
    "j= {1,2,3, 'hello world', True}\n",
    "k= { 1:'hello world',2:'aryan'}\n",
    "\n",
    "\n",
    "print(type(c))\n",
    "print(type(d))\n",
    "print(type(e))\n",
    "print(type(f))\n",
    "print(type(g))\n",
    "print(type(h))\n",
    "print(type(i))\n",
    "print(type(j))\n",
    "print(type(k))"
   ]
  },
  {
   "cell_type": "code",
   "execution_count": null,
   "id": "9fe556e5",
   "metadata": {},
   "outputs": [],
   "source": [
    "# we got error in cell before because we used a, b far two values in two differnt cells so never\n",
    "# give use two same varibles far different values in one code page"
   ]
  },
  {
   "cell_type": "markdown",
   "id": "dd390fc3",
   "metadata": {},
   "source": [
    "# input() fuction  "
   ]
  },
  {
   "cell_type": "code",
   "execution_count": 1,
   "id": "ae0e55b5",
   "metadata": {},
   "outputs": [],
   "source": [
    "# Everything written inside input() will get printed to ask far input specified and then stores the input to work"
   ]
  },
  {
   "cell_type": "code",
   "execution_count": 3,
   "id": "981b7174",
   "metadata": {},
   "outputs": [
    {
     "name": "stdout",
     "output_type": "stream",
     "text": [
      "your namearyan\n",
      "your age12\n",
      "aryanyour age is12\n"
     ]
    }
   ],
   "source": [
    "Name= input('your name')\n",
    "Age= input('your age')\n",
    "print(Name+'your age is' + Age) # we can use \"\" or ''  both are same\n"
   ]
  },
  {
   "cell_type": "markdown",
   "id": "d74f7cdf",
   "metadata": {},
   "source": [
    "### previous code have a proble it don't gives space after name, age and print is aryanyour age is12 so there are no spaces in some important area\n",
    "\n",
    "### to give the space between aryan and your or is and 12 we need to give space after starting commas or ending commas as required in input and far print to get space between nameyour we need to give space between starting comma and your\n"
   ]
  },
  {
   "cell_type": "code",
   "execution_count": 4,
   "id": "021acdf0",
   "metadata": {},
   "outputs": [],
   "source": [
    "# so to give that space we will do input('your name  ') \n",
    "# the space before ending comma after your name  in input tag will give that space\n",
    "\n",
    "# similarly print(Name+'   your age is  ' + Age) will give space after Name and before Age"
   ]
  },
  {
   "cell_type": "code",
   "execution_count": 7,
   "id": "da508e84",
   "metadata": {},
   "outputs": [
    {
     "name": "stdout",
     "output_type": "stream",
     "text": [
      "Your Name ARYAN\n",
      "Your Age 18\n",
      "ARYAN your age is 18\n",
      "ARYANyour age is 18\n"
     ]
    }
   ],
   "source": [
    "Name= input('Your Name ')\n",
    "Age=input('Your Age ')\n",
    "\n",
    "print(Name + ' your age is '+ Age) #IMP we have to give space '_your age is _\n",
    "\n",
    "print(Name + 'your age is '+ Age)  #IMP if we do 'your age is_' so remember to give spaces and + and , works same"
   ]
  },
  {
   "cell_type": "markdown",
   "id": "2df46692",
   "metadata": {},
   "source": [
    "### Take this interesting case"
   ]
  },
  {
   "cell_type": "markdown",
   "id": "92a9ea10",
   "metadata": {},
   "source": [
    "### In input('your name') anyone can put numbers so print can be 18 your age is 18\n",
    "### to make sure we get the type of data we want, we define data using str() far string, int() far integer, float() far float,etc\n",
    "### To get int as input we use int(input())"
   ]
  },
  {
   "cell_type": "code",
   "execution_count": 2,
   "id": "9ca06301",
   "metadata": {},
   "outputs": [
    {
     "name": "stdout",
     "output_type": "stream",
     "text": [
      "Your Name 18\n",
      "Your Age 18\n",
      "18 your age is 18\n"
     ]
    }
   ],
   "source": [
    "Name= input('Your Name ')\n",
    "Age=input('Your Age ')\n",
    "\n",
    "print(Name + ' your age is '+ Age)"
   ]
  },
  {
   "cell_type": "markdown",
   "id": "b7cdb174",
   "metadata": {},
   "source": [
    "### you can't add two different data types together like string or int, etc far that use , (comma)"
   ]
  },
  {
   "cell_type": "code",
   "execution_count": 1,
   "id": "1b30e098",
   "metadata": {},
   "outputs": [
    {
     "ename": "TypeError",
     "evalue": "can only concatenate str (not \"int\") to str",
     "output_type": "error",
     "traceback": [
      "\u001b[1;31m---------------------------------------------------------------------------\u001b[0m",
      "\u001b[1;31mTypeError\u001b[0m                                 Traceback (most recent call last)",
      "Input \u001b[1;32mIn [1]\u001b[0m, in \u001b[0;36m<cell line: 3>\u001b[1;34m()\u001b[0m\n\u001b[0;32m      1\u001b[0m a\u001b[38;5;241m=\u001b[39m \u001b[38;5;124m'\u001b[39m\u001b[38;5;124mhello\u001b[39m\u001b[38;5;124m'\u001b[39m\n\u001b[0;32m      2\u001b[0m b\u001b[38;5;241m=\u001b[39m \u001b[38;5;241m3\u001b[39m\n\u001b[1;32m----> 3\u001b[0m \u001b[38;5;28mprint\u001b[39m(\u001b[43ma\u001b[49m\u001b[38;5;241;43m+\u001b[39;49m\u001b[43mb\u001b[49m)\n",
      "\u001b[1;31mTypeError\u001b[0m: can only concatenate str (not \"int\") to str"
     ]
    }
   ],
   "source": [
    "a= 'hello'\n",
    "b= 3\n",
    "print(a+b)"
   ]
  },
  {
   "cell_type": "markdown",
   "id": "a527ef45",
   "metadata": {},
   "source": [
    "### can only add two same data types "
   ]
  },
  {
   "cell_type": "code",
   "execution_count": 5,
   "id": "3e2751f6",
   "metadata": {},
   "outputs": [
    {
     "name": "stdout",
     "output_type": "stream",
     "text": [
      "hello1\n"
     ]
    }
   ],
   "source": [
    "a='hello'\n",
    "b='1' # here '1' is string not number cos its in '' (commas)\n",
    "print(a+b)"
   ]
  },
  {
   "cell_type": "code",
   "execution_count": null,
   "id": "735dbcf5",
   "metadata": {},
   "outputs": [],
   "source": [
    "Name= str(input('Your Name '))\n",
    "Age=int(input('Your Age '))\n",
    "\n",
    "print(Name+ ' your age is ', Age) #you can't add two different data types together like string or int, etc far that use ,(comma)"
   ]
  },
  {
   "cell_type": "markdown",
   "id": "45ff432b",
   "metadata": {},
   "source": [
    "### we can't make variable using space, far adding space we use underscore_"
   ]
  },
  {
   "cell_type": "code",
   "execution_count": 1,
   "id": "454bf4c8",
   "metadata": {},
   "outputs": [
    {
     "ename": "SyntaxError",
     "evalue": "invalid syntax (3929186524.py, line 1)",
     "output_type": "error",
     "traceback": [
      "\u001b[1;36m  Input \u001b[1;32mIn [1]\u001b[1;36m\u001b[0m\n\u001b[1;33m    BIRTH YEAR = 19\u001b[0m\n\u001b[1;37m          ^\u001b[0m\n\u001b[1;31mSyntaxError\u001b[0m\u001b[1;31m:\u001b[0m invalid syntax\n"
     ]
    }
   ],
   "source": [
    "BIRTH YEAR = 19\n",
    "print(BIRTH YEAR)"
   ]
  },
  {
   "cell_type": "code",
   "execution_count": 7,
   "id": "78c57b03",
   "metadata": {},
   "outputs": [
    {
     "name": "stdout",
     "output_type": "stream",
     "text": [
      "your weight in kgs: 55\n",
      "your weight in grams is  55000.0  grams\n"
     ]
    }
   ],
   "source": [
    "weight=float(input('your weight in kgs: '))\n",
    "\n",
    "weight_in_grams = weight*1000 \n",
    "\n",
    "print('your weight in grams is ', weight_in_grams, ' grams')"
   ]
  },
  {
   "cell_type": "markdown",
   "id": "4c5a6b07",
   "metadata": {},
   "source": [
    "## Index in string\n",
    "\n",
    "     course = 'Python far begineers'\n",
    "    INDEX----- 012345 678 9........so on\n",
    "    \n",
    "    -ve index-so on........-4-3-2-1\n",
    "    \n",
    "                        -ve index means its starts from last word\n",
    "   \n",
    " [x:y] = it prints everything between x and y but it won't print x and yth index\n",
    "   \n",
    " example = [1:-1] it will print every index but not 1 and -1 \n",
    "   \n",
    " NOTE that [x:y] is different from [x] , [x] will print xth index  \n",
    "   \n",
    " example = [1] will print 1 index"
   ]
  },
  {
   "cell_type": "code",
   "execution_count": 9,
   "id": "91d44dfa",
   "metadata": {},
   "outputs": [
    {
     "name": "stdout",
     "output_type": "stream",
     "text": [
      "p\n",
      "s\n"
     ]
    }
   ],
   "source": [
    "course = 'python far begineers'\n",
    "print(course[0])\n",
    "print(course[-1]) # it prints from last , from last it starts from index -1 not 0 because -0 don't exists "
   ]
  },
  {
   "cell_type": "code",
   "execution_count": 11,
   "id": "707207ae",
   "metadata": {},
   "outputs": [
    {
     "name": "stdout",
     "output_type": "stream",
     "text": [
      "pytho\n",
      "python far begineers\n"
     ]
    }
   ],
   "source": [
    "course = 'python far begineers'\n",
    "\n",
    "print(course [:5]) # if we put [:5] it takes [0:5] automatically so it takes 0 before : as default and last indes after : \n",
    "      \n",
    "print(course[:])      #[:] will print whole string"
   ]
  },
  {
   "cell_type": "code",
   "execution_count": 12,
   "id": "efcc340a",
   "metadata": {},
   "outputs": [
    {
     "name": "stdout",
     "output_type": "stream",
     "text": [
      " \n"
     ]
    }
   ],
   "source": [
    "course = ' python far begineers'\n",
    "#index-- 0 123456 789 ...son on \n",
    "\n",
    "print(course[0]) # HERE we have space as index 0 "
   ]
  },
  {
   "cell_type": "markdown",
   "id": "c1062ea6",
   "metadata": {},
   "source": [
    "### Formatted string \n",
    "\n",
    "When we want to add \" or [] in string\n",
    "\n",
    "example-: TO PRINT Jhon [Smith] is a coder\n",
    "                 \n",
    "                 code\n",
    "                      \n",
    "            first='Jhon'\n",
    "            last= 'Smith'\n",
    "            message=first + '[' + last '] is a code'\n",
    "            print(message)\n",
    "          \n",
    "    HERE it becomes complex to print symbols or complex texts in string to solve that problem we use formatted string\n",
    "    \n",
    "    \n",
    "  ### formatted string = f'' \n",
    "  \n",
    "  example-: TO PRINT Jhon [Smith] is a coder USING FORMATTED STRING\n",
    "  \n",
    "                  code\n",
    "                  \n",
    "          first='Jhon'\n",
    "          last= 'Smith'\n",
    "          message=f'{first} [{last}] is a coder'\n",
    "          print(message)     \n",
    "   \n",
    "   formatted string or f'' helps combine new string with variables (NUMBERS TOO)"
   ]
  },
  {
   "cell_type": "code",
   "execution_count": 14,
   "id": "1c618229",
   "metadata": {},
   "outputs": [
    {
     "name": "stdout",
     "output_type": "stream",
     "text": [
      "Jhon [Smith] 5 is a coder\n"
     ]
    }
   ],
   "source": [
    " first='Jhon'\n",
    "last= 'Smith'\n",
    "a= 5\n",
    "\n",
    "message=f'{first} [{last}] {a} is a coder'\n",
    "\n",
    "print(message)     "
   ]
  },
  {
   "cell_type": "markdown",
   "id": "c6f3c9e5",
   "metadata": {},
   "source": [
    "## String methods\n",
    "\n",
    "### We alse have some string specified function to convert string in upper case or lower case or etc ,\n",
    "\n",
    "### We access them using . in string variable like course. upper() IMP - [ .upper() is a method ] \n",
    "\n",
    "### we refer to these functions as methods\n",
    " \n",
    "### when a function is specific to some kind of object is methods"
   ]
  },
  {
   "cell_type": "code",
   "execution_count": 31,
   "id": "db55caa6",
   "metadata": {},
   "outputs": [
    {
     "name": "stdout",
     "output_type": "stream",
     "text": [
      "PYTHON FAR BEGINEERS\n",
      "4\n",
      "python far absoloute begineers\n",
      "True\n",
      "False\n"
     ]
    }
   ],
   "source": [
    "course= 'python far begineers'\n",
    "\n",
    "print(course.upper()) # PUTTING A C\n",
    "\n",
    "print(course.find('o')) #it gives index of character , IT IS CASE SENSITIVE\n",
    "\n",
    "print(course.replace('begineers', 'absoloute begineers'))  # it replace characters in strings\n",
    "\n",
    "print('python' in course) # in is an operator that helps to check characters in python using a boolean value\n",
    "print('Python' in course) # in operator is case sensitive\n"
   ]
  },
  {
   "cell_type": "markdown",
   "id": "2f74ec19",
   "metadata": {},
   "source": [
    "### Len function is used to calculate no. of characters in strings it helps to manage no. of character in our  program \n",
    "\n",
    "len function is general purpose character so it can be used to calculate no. of items too , like in list\n",
    "\n",
    " USING LEN WE CAN SET LIMITS OF CHARACTERS FAR OUR USERS \n",
    "\n",
    "IF USERS TYPE MORE CHARACTERS THAN WE ALLOW THEM IT WILL DISPLAY AN ERROR"
   ]
  },
  {
   "cell_type": "code",
   "execution_count": 19,
   "id": "766c25eb",
   "metadata": {},
   "outputs": [
    {
     "name": "stdout",
     "output_type": "stream",
     "text": [
      "20\n"
     ]
    }
   ],
   "source": [
    "course= 'python far begineers'\n",
    "print(len(course))"
   ]
  },
  {
   "cell_type": "code",
   "execution_count": 20,
   "id": "5994729a",
   "metadata": {},
   "outputs": [
    {
     "name": "stdout",
     "output_type": "stream",
     "text": [
      "21\n"
     ]
    }
   ],
   "source": [
    "# NOTE that space is also calculated as character\n",
    "course= ' python far begineers' \n",
    "print(len(course))"
   ]
  },
  {
   "cell_type": "markdown",
   "id": "bc1b3e9c",
   "metadata": {},
   "source": [
    "### We alse have some string specified function to convert string in upper case or lower case or etc ,\n",
    "\n",
    "### We access them using . in string variable like course. "
   ]
  },
  {
   "cell_type": "markdown",
   "id": "fc8b2b2a",
   "metadata": {},
   "source": [
    "### Arithmetics in python follows BODMAS\n",
    "### Using parenthesis () we can priortise a calculation NOTE-: parenthesis is round brackets"
   ]
  },
  {
   "cell_type": "code",
   "execution_count": 2,
   "id": "3c83744f",
   "metadata": {},
   "outputs": [
    {
     "name": "stdout",
     "output_type": "stream",
     "text": [
      "4\n"
     ]
    }
   ],
   "source": [
    "print(4%5)  "
   ]
  },
  {
   "cell_type": "markdown",
   "id": "433669d6",
   "metadata": {},
   "source": [
    "###### it means 4 divide by 5 gives remainder 4 because 4 can't be divided by 5 so final remainder don't changes and remains 4 i.e same as initial number"
   ]
  },
  {
   "cell_type": "code",
   "execution_count": 7,
   "id": "1622707f",
   "metadata": {},
   "outputs": [
    {
     "name": "stdout",
     "output_type": "stream",
     "text": [
      "dlrow ih\n"
     ]
    }
   ],
   "source": [
    "a = 'hi world'\n",
    "print(a[::-1])\n",
    "\n",
    "#this is used to print the reverse of a string "
   ]
  },
  {
   "cell_type": "code",
   "execution_count": null,
   "id": "8782482b",
   "metadata": {},
   "outputs": [],
   "source": []
  }
 ],
 "metadata": {
  "kernelspec": {
   "display_name": "Python 3 (ipykernel)",
   "language": "python",
   "name": "python3"
  },
  "language_info": {
   "codemirror_mode": {
    "name": "ipython",
    "version": 3
   },
   "file_extension": ".py",
   "mimetype": "text/x-python",
   "name": "python",
   "nbconvert_exporter": "python",
   "pygments_lexer": "ipython3",
   "version": "3.9.13"
  }
 },
 "nbformat": 4,
 "nbformat_minor": 5
}
