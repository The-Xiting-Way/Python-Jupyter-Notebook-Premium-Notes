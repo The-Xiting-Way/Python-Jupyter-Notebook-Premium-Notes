{
 "cells": [
  {
   "cell_type": "markdown",
   "id": "e12b9312",
   "metadata": {},
   "source": [
    "###### split() method of string\n",
    "\n",
    "split is a string method split() method splits a string into a list"
   ]
  },
  {
   "cell_type": "code",
   "execution_count": 6,
   "id": "393e30e9",
   "metadata": {},
   "outputs": [
    {
     "name": "stdout",
     "output_type": "stream",
     "text": [
      "['apple', 'banana cherry orange']\n"
     ]
    }
   ],
   "source": [
    "txt = \"apple banana cherry orange\"\n",
    "\n",
    "# setting the maxsplit parameter to 1, will return a list with 2 elements!\n",
    "\n",
    "x = txt.split(\" \", 1) # ' ' tells where to seaprate text from\n",
    "\n",
    "print(x)"
   ]
  },
  {
   "cell_type": "code",
   "execution_count": 10,
   "id": "d88c66a6",
   "metadata": {},
   "outputs": [
    {
     "name": "stdout",
     "output_type": "stream",
     "text": [
      "here: hi iam aryainguz\n",
      "['hi', 'iam aryainguz']\n"
     ]
    }
   ],
   "source": [
    "a = input('here: ')\n",
    "x=a.split(' ',1) \n",
    "print(x)"
   ]
  },
  {
   "cell_type": "markdown",
   "id": "6a37e3c3",
   "metadata": {},
   "source": [
    "### Program to convert words to emoji "
   ]
  },
  {
   "cell_type": "code",
   "execution_count": 3,
   "id": "a5776cd0",
   "metadata": {},
   "outputs": [
    {
     "name": "stdout",
     "output_type": "stream",
     "text": [
      "here-: iam very happy\n",
      "😀 \n"
     ]
    }
   ],
   "source": [
    "x= input('here-: ')\n",
    "\n",
    "y= x.split(' ')  # (' ') is seaprator to seaprate words in string as items \n",
    "\n",
    "emojis = {'happy':\"\\U0001f600\",\n",
    "           'ver happy':\"\\U0001F606\",\n",
    "          'lmao':\"\\U0001F923\"}      \n",
    "          \n",
    "for item in y:\n",
    "    z =  emojis.get(item,item) +' ' # '' is space\n",
    "\n",
    "       # (item,item) ist item means far keywords in emoji it will give emoji \n",
    "       # for 2nd item it means undefined word as keyword in emoji,\n",
    "    \n",
    "       # it will print item or word written if item not in emojis\n",
    "print(z)"
   ]
  },
  {
   "cell_type": "markdown",
   "id": "6d740ba8",
   "metadata": {},
   "source": [
    "###### Doing this using def  "
   ]
  },
  {
   "cell_type": "code",
   "execution_count": 1,
   "id": "134007ea",
   "metadata": {},
   "outputs": [
    {
     "name": "stdout",
     "output_type": "stream",
     "text": [
      "here-: iam lmao\n",
      "🤣 \n"
     ]
    }
   ],
   "source": [
    "def emoji_converter(x):\n",
    "        y= x.split(' ')\n",
    "        emojis = {'happy':\"\\U0001f600\",\n",
    "               'very happy':\"\\U0001F606\",\n",
    "              'lmao':\"\\U0001F923\"}      \n",
    "        for item in y:\n",
    "            z =  emojis.get(item,item) +' ' # '' is space\n",
    "        return z  \n",
    "\n",
    "\n",
    "x= input('here-: ')             # note that we should never include input and output in def function\n",
    "print(emoji_converter(x))"
   ]
  },
  {
   "cell_type": "code",
   "execution_count": null,
   "id": "de71f054",
   "metadata": {},
   "outputs": [],
   "source": []
  }
 ],
 "metadata": {
  "kernelspec": {
   "display_name": "Python 3 (ipykernel)",
   "language": "python",
   "name": "python3"
  },
  "language_info": {
   "codemirror_mode": {
    "name": "ipython",
    "version": 3
   },
   "file_extension": ".py",
   "mimetype": "text/x-python",
   "name": "python",
   "nbconvert_exporter": "python",
   "pygments_lexer": "ipython3",
   "version": "3.9.13"
  }
 },
 "nbformat": 4,
 "nbformat_minor": 5
}
