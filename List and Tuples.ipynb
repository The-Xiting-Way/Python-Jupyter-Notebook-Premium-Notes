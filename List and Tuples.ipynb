{
 "cells": [
  {
   "cell_type": "markdown",
   "id": "db1e795f",
   "metadata": {},
   "source": [
    "### index in list refers to items "
   ]
  },
  {
   "cell_type": "code",
   "execution_count": 3,
   "id": "51f981af",
   "metadata": {},
   "outputs": [
    {
     "name": "stdout",
     "output_type": "stream",
     "text": [
      "steve\n"
     ]
    }
   ],
   "source": [
    "name = ['aryan','mosh','harry','steve','bill']\n",
    "\n",
    "print(name[-2])      # From last numbering in index starts from -1 not 0, from front numbering starts from 0"
   ]
  },
  {
   "cell_type": "markdown",
   "id": "d0a52e91",
   "metadata": {},
   "source": [
    "### we can add int, float, str, etc in list and variables too "
   ]
  },
  {
   "cell_type": "code",
   "execution_count": 5,
   "id": "07fd227d",
   "metadata": {},
   "outputs": [
    {
     "name": "stdout",
     "output_type": "stream",
     "text": [
      "1\n"
     ]
    }
   ],
   "source": [
    "a= 1\n",
    "b= 2\n",
    "c=3\n",
    "name= [a,b,c,'aryan','steve','bill']\n",
    "\n",
    "print(name[0])"
   ]
  },
  {
   "cell_type": "markdown",
   "id": "7a874fce",
   "metadata": {},
   "source": [
    "### program to find the largest number in list "
   ]
  },
  {
   "cell_type": "code",
   "execution_count": 11,
   "id": "3fcaa3e3",
   "metadata": {},
   "outputs": [
    {
     "name": "stdout",
     "output_type": "stream",
     "text": [
      "9\n"
     ]
    }
   ],
   "source": [
    "a = [1,2,3,6,7,5,9,0]\n",
    "\n",
    "largest_number = a[0]\n",
    "\n",
    "for number in a:\n",
    "    if number>largest_number:\n",
    "        largest_number=number\n",
    "        \n",
    "print(largest_number)"
   ]
  },
  {
   "cell_type": "markdown",
   "id": "4a794e42",
   "metadata": {},
   "source": [
    "### if and if not statements both are similar and both need conditions, but if not is used far opposite of condtion"
   ]
  },
  {
   "cell_type": "markdown",
   "id": "031c89b0",
   "metadata": {},
   "source": [
    "## 2-D lists in python"
   ]
  },
  {
   "cell_type": "markdown",
   "id": "61688091",
   "metadata": {},
   "source": [
    "### A 2-D list is a list where each item in the list is another list"
   ]
  },
  {
   "cell_type": "code",
   "execution_count": 6,
   "id": "0ca6cbcd",
   "metadata": {},
   "outputs": [
    {
     "name": "stdout",
     "output_type": "stream",
     "text": [
      "[1, 2, 3]\n"
     ]
    }
   ],
   "source": [
    "matrix = [\n",
    "    [1,2,3], \n",
    "    [4,5,6],\n",
    "    [7,8,9]\n",
    "]\n",
    "\n",
    "print(matrix[0])"
   ]
  },
  {
   "cell_type": "code",
   "execution_count": 7,
   "id": "f8fcd7f6",
   "metadata": {},
   "outputs": [
    {
     "name": "stdout",
     "output_type": "stream",
     "text": [
      "[1, 2, 3]\n",
      "1\n",
      "2\n",
      "3\n",
      "[4, 5, 6]\n",
      "4\n",
      "5\n",
      "6\n",
      "[7, 8, 9]\n",
      "7\n",
      "8\n",
      "9\n"
     ]
    }
   ],
   "source": [
    "matrix = [\n",
    "    [1,2,3], \n",
    "    [4,5,6],\n",
    "    [7,8,9]\n",
    "]\n",
    "\n",
    "for sub_list in matrix:\n",
    "    print(sub_list)\n",
    "    for item in sub_list:\n",
    "        print(item)"
   ]
  },
  {
   "cell_type": "markdown",
   "id": "92625180",
   "metadata": {},
   "source": [
    "## list methods"
   ]
  },
  {
   "cell_type": "code",
   "execution_count": 35,
   "id": "90510bde",
   "metadata": {},
   "outputs": [
    {
     "name": "stdout",
     "output_type": "stream",
     "text": [
      "[5, 3, 2, 1, 6, 11]\n"
     ]
    }
   ],
   "source": [
    "numbers=[5,3,2,1,6]\n",
    "\n",
    "numbers.append(11)     #This will add item at the end of the list\n",
    "print(numbers)"
   ]
  },
  {
   "cell_type": "markdown",
   "id": "0e41537c",
   "metadata": {},
   "source": [
    "##### .append method of list will add item at the end of the list\n",
    "##### To add item at any index of the list we use .insert() method"
   ]
  },
  {
   "cell_type": "markdown",
   "id": "6a6f44ff",
   "metadata": {},
   "source": [
    "#### numbers.insert() , Here in () first we have to add an index of list where we want to add an item then add the item after comma "
   ]
  },
  {
   "cell_type": "code",
   "execution_count": 2,
   "id": "3152203f",
   "metadata": {},
   "outputs": [
    {
     "name": "stdout",
     "output_type": "stream",
     "text": [
      "[5, 0, 3, 2, 1, 6]\n"
     ]
    }
   ],
   "source": [
    "numbers=[5,3,2,1,6]\n",
    "\n",
    "numbers.insert(1,0)  #This will add item at the index you entered in the list \n",
    "print(numbers)"
   ]
  },
  {
   "cell_type": "markdown",
   "id": "88fe65bd",
   "metadata": {},
   "source": [
    "#### .remove() is used to remove the item in list eg-: .remove(item)  here simply enter item name not index"
   ]
  },
  {
   "cell_type": "code",
   "execution_count": 5,
   "id": "a8becc32",
   "metadata": {},
   "outputs": [
    {
     "name": "stdout",
     "output_type": "stream",
     "text": [
      "[1, 3, 5, 4, 6, 2]\n"
     ]
    }
   ],
   "source": [
    "a= [1,3,5,4,6,7,2]\n",
    "a.remove(7)\n",
    "print(a)\n"
   ]
  },
  {
   "cell_type": "code",
   "execution_count": 18,
   "id": "42e00240",
   "metadata": {},
   "outputs": [
    {
     "name": "stdout",
     "output_type": "stream",
     "text": [
      "None\n"
     ]
    }
   ],
   "source": [
    "a= [1,3,5,4,6,7,2]\n",
    "\n",
    "print(a.remove(1))  # this prints none because .remove has removed 1 and now there is no 1 to print"
   ]
  },
  {
   "cell_type": "markdown",
   "id": "bfc40f5c",
   "metadata": {},
   "source": [
    "#### .clear() is used to empty the list or clear the list completely, don't write anything in ()"
   ]
  },
  {
   "cell_type": "code",
   "execution_count": 26,
   "id": "970aaf1f",
   "metadata": {},
   "outputs": [
    {
     "name": "stdout",
     "output_type": "stream",
     "text": [
      "[]\n"
     ]
    }
   ],
   "source": [
    "a= [1,3,5,4,6,7,2]\n",
    "a.clear()\n",
    "print(a)"
   ]
  },
  {
   "cell_type": "code",
   "execution_count": 24,
   "id": "aae0a12e",
   "metadata": {},
   "outputs": [
    {
     "name": "stdout",
     "output_type": "stream",
     "text": [
      "None\n"
     ]
    }
   ],
   "source": [
    "a= [1,3,5,4,6,7,2]\n",
    "print(a.clear())     # this prints none because it printed a.clear() which is nothing because using .clear already clears a"
   ]
  },
  {
   "cell_type": "markdown",
   "id": "b8322606",
   "metadata": {},
   "source": [
    "#### .pop() is used to remove the last item in the list , don't write anything in ()"
   ]
  },
  {
   "cell_type": "code",
   "execution_count": 11,
   "id": "15d9faf9",
   "metadata": {},
   "outputs": [
    {
     "name": "stdout",
     "output_type": "stream",
     "text": [
      "[1, 3, 5, 4, 6, 7]\n"
     ]
    }
   ],
   "source": [
    "a= [1,3,5,4,6,7,2,]\n",
    "a.pop()          # this removes last item in the list\n",
    "print(a)"
   ]
  },
  {
   "cell_type": "code",
   "execution_count": 14,
   "id": "8e292afa",
   "metadata": {},
   "outputs": [
    {
     "name": "stdout",
     "output_type": "stream",
     "text": [
      "2\n"
     ]
    }
   ],
   "source": [
    "a= [1,3,5,4,6,7,2]\n",
    "print(a.pop())\n",
    "\n",
    "# using a.pop in print will print only last item in list because it's printing the item that .pop removes in list"
   ]
  },
  {
   "cell_type": "markdown",
   "id": "25861e6c",
   "metadata": {},
   "source": [
    "#### .index() is used to print the index of item in the list, in() write the item name in the list and you will get the index of that item"
   ]
  },
  {
   "cell_type": "code",
   "execution_count": 20,
   "id": "4b38e2d9",
   "metadata": {},
   "outputs": [
    {
     "name": "stdout",
     "output_type": "stream",
     "text": [
      "[1, 3, 5, 4, 6, 7, 2]\n"
     ]
    }
   ],
   "source": [
    "a= [1,3,5,4,6,7,2]\n",
    "a.index(1)\n",
    "print(a)       \n",
    "\n",
    "# using this won't print index of 1 because we did't enter syntax to print it in print function\n",
    "# it will simply print normal a "
   ]
  },
  {
   "cell_type": "code",
   "execution_count": 21,
   "id": "0b909852",
   "metadata": {},
   "outputs": [
    {
     "name": "stdout",
     "output_type": "stream",
     "text": [
      "0\n"
     ]
    }
   ],
   "source": [
    "a= [1,3,5,4,6,7,2]\n",
    "print(a.index(1)) \n",
    "\n",
    "#this is correct way to print a.index() because we entered it in print fuction to print"
   ]
  },
  {
   "cell_type": "markdown",
   "id": "47380d20",
   "metadata": {},
   "source": [
    "#### .count function gives no. of times item is there in list"
   ]
  },
  {
   "cell_type": "code",
   "execution_count": 35,
   "id": "4d14e3d2",
   "metadata": {},
   "outputs": [
    {
     "name": "stdout",
     "output_type": "stream",
     "text": [
      "5\n"
     ]
    }
   ],
   "source": [
    "a = [1,1,1,1,1,12,3,4]\n",
    "print(a.count(1))"
   ]
  },
  {
   "cell_type": "markdown",
   "id": "c7d7e699",
   "metadata": {},
   "source": [
    "#### .sort is used to sort items in the list in ascending order, do't add anything in ()"
   ]
  },
  {
   "cell_type": "code",
   "execution_count": 31,
   "id": "e1df219a",
   "metadata": {},
   "outputs": [
    {
     "name": "stdout",
     "output_type": "stream",
     "text": [
      "[1, 2, 3, 4, 5, 6, 7]\n"
     ]
    }
   ],
   "source": [
    "a = [5,4,3,2,1,6,7]\n",
    "a.sort()\n",
    "print(a)"
   ]
  },
  {
   "cell_type": "code",
   "execution_count": 30,
   "id": "1dda9066",
   "metadata": {},
   "outputs": [
    {
     "name": "stdout",
     "output_type": "stream",
     "text": [
      "None\n"
     ]
    }
   ],
   "source": [
    "a = [5,4,3,2,1,6,7]\n",
    "print(a.sort())\n",
    "\n",
    "\n",
    "# using a.sort inside print will print none because using a.sort has sorted the list already \n",
    "#even if its written in print so first the list is sorted and now there's none available to sort so output is none\n"
   ]
  },
  {
   "cell_type": "markdown",
   "id": "71033efb",
   "metadata": {},
   "source": [
    "#### .reverse reverses the items in the list in descending order "
   ]
  },
  {
   "cell_type": "code",
   "execution_count": 32,
   "id": "0ee3e590",
   "metadata": {},
   "outputs": [
    {
     "name": "stdout",
     "output_type": "stream",
     "text": [
      "[7, 6, 1, 2, 3, 4, 5]\n"
     ]
    }
   ],
   "source": [
    "a = [5,4,3,2,1,6,7]\n",
    "a.reverse()\n",
    "print(a)"
   ]
  },
  {
   "cell_type": "code",
   "execution_count": 33,
   "id": "46122c2c",
   "metadata": {},
   "outputs": [
    {
     "name": "stdout",
     "output_type": "stream",
     "text": [
      "None\n"
     ]
    }
   ],
   "source": [
    "a = [5,4,3,2,1,6,7]\n",
    "print(a.reverse())"
   ]
  },
  {
   "cell_type": "markdown",
   "id": "5a28f1b1",
   "metadata": {},
   "source": [
    "#### .copy is used to copy the list "
   ]
  },
  {
   "cell_type": "code",
   "execution_count": 36,
   "id": "a08d276c",
   "metadata": {},
   "outputs": [
    {
     "name": "stdout",
     "output_type": "stream",
     "text": [
      "[5, 4, 3, 2, 1, 6, 7, 100]\n"
     ]
    }
   ],
   "source": [
    "a = [5,4,3,2,1,6,7]\n",
    "b= a.copy()\n",
    "b.append(100)\n",
    "\n",
    "print(b)"
   ]
  },
  {
   "cell_type": "markdown",
   "id": "5e4f94c0",
   "metadata": {},
   "source": [
    "#### None is an object in python which represents the absence of value"
   ]
  },
  {
   "cell_type": "markdown",
   "id": "db10a0fb",
   "metadata": {},
   "source": [
    "#### be smart and know when to use methods in print and when seaprately\n",
    "#### using methods seaprately changes a to itself, example-: if we use a.clear() , a becomes clear just like in string a.upper becomes new a"
   ]
  },
  {
   "cell_type": "markdown",
   "id": "f6cbd279",
   "metadata": {},
   "source": [
    "###  program to remove the duplicates in a list "
   ]
  },
  {
   "cell_type": "code",
   "execution_count": 7,
   "id": "b728a5df",
   "metadata": {
    "scrolled": true
   },
   "outputs": [
    {
     "name": "stdout",
     "output_type": "stream",
     "text": [
      "[1, 2, 3, 4]\n"
     ]
    }
   ],
   "source": [
    "a = [1,1,2,2,2,2,3,3,4,4,4,4,4,4]\n",
    "new_a=[]\n",
    "\n",
    "for item in a:\n",
    "    if item not in new_a:           # we can also use in and not in function to compare to lists \n",
    "        new_a.append(item)  \n",
    "print(new_a)"
   ]
  },
  {
   "cell_type": "markdown",
   "id": "38e2db55",
   "metadata": {},
   "source": [
    "### Same program using our logic "
   ]
  },
  {
   "cell_type": "markdown",
   "id": "30363d65",
   "metadata": {},
   "source": [
    "##### Using while loop "
   ]
  },
  {
   "cell_type": "code",
   "execution_count": 15,
   "id": "6dece266",
   "metadata": {},
   "outputs": [
    {
     "name": "stdout",
     "output_type": "stream",
     "text": [
      "[1, 2, 3, 4]\n"
     ]
    }
   ],
   "source": [
    "a = [1,1,2,2,2,2,3,3,4,4,4,4,4,4,1,4,4]\n",
    "\n",
    "for item in a:\n",
    "    while a.count(item)>=2:\n",
    "        a.remove(item)              #this will keep happening until the condition is false.\n",
    "        a.sort()\n",
    "print(a)   "
   ]
  },
  {
   "cell_type": "markdown",
   "id": "3734fddf",
   "metadata": {},
   "source": [
    "##### using if statement in for loop"
   ]
  },
  {
   "cell_type": "code",
   "execution_count": 16,
   "id": "aae8bc19",
   "metadata": {},
   "outputs": [
    {
     "name": "stdout",
     "output_type": "stream",
     "text": [
      "[1, 2, 2, 3, 4, 4, 4, 4]\n"
     ]
    }
   ],
   "source": [
    "a = [1,1,2,2,2,2,3,3,4,4,4,4,4,4,1,4,4]\n",
    "\n",
    "for item in a:\n",
    "    if a.count(item)>=2:\n",
    "        a.remove(item)      # this will only happen once\n",
    "        a.sort()\n",
    "print(a)   "
   ]
  },
  {
   "cell_type": "markdown",
   "id": "819a2850",
   "metadata": {},
   "source": [
    "## Difference between while loop and if statement\n",
    "\n",
    "### A while loop will run as many times as it needs to while a condition is true, i.e., until that condition is false.\n",
    "\n",
    "### An if statement will execute once if a condition is true."
   ]
  },
  {
   "cell_type": "markdown",
   "id": "61cbd58c",
   "metadata": {},
   "source": [
    "##### Don't confuse between lens and index , len tells about no. of items in list or characters in string but index just tell position of items or characters \n",
    "\n",
    "##### Len starts from 1 but index starts from 0     ( its len function not lens )\n",
    "\n",
    "##### Index gives value and len gives no. of value"
   ]
  },
  {
   "cell_type": "markdown",
   "id": "188afaa0",
   "metadata": {},
   "source": [
    "## index in list"
   ]
  },
  {
   "cell_type": "markdown",
   "id": "a3668542",
   "metadata": {},
   "source": [
    "#### index in list works same as index in string but here in list a index tells position of item and in string index tells position of character"
   ]
  },
  {
   "cell_type": "code",
   "execution_count": 3,
   "id": "e5865992",
   "metadata": {},
   "outputs": [
    {
     "name": "stdout",
     "output_type": "stream",
     "text": [
      "hi\n"
     ]
    }
   ],
   "source": [
    "a = ['hi','hey','hello']\n",
    "print(a[0])"
   ]
  },
  {
   "cell_type": "markdown",
   "id": "0b6db66c",
   "metadata": {},
   "source": [
    "#### Changing an item in list using index"
   ]
  },
  {
   "cell_type": "code",
   "execution_count": 5,
   "id": "20630e11",
   "metadata": {},
   "outputs": [
    {
     "name": "stdout",
     "output_type": "stream",
     "text": [
      "['heyaaa', 'hey', 'hello']\n"
     ]
    }
   ],
   "source": [
    "a = ['hi','hey','hello']\n",
    "\n",
    "a[0]='heyaaa'  \n",
    "print(a)\n",
    "\n",
    "# Note that using this we can only change an item in that index, we can't add new item far that use append or insert method"
   ]
  },
  {
   "cell_type": "markdown",
   "id": "15c1a6ca",
   "metadata": {},
   "source": [
    "### We have to define an index before changing it \n",
    "#### Example if list a = [1,2,3] , it have max index of 2, so you can't change index like a[3], otherwise it will give error of list index out of range"
   ]
  },
  {
   "cell_type": "code",
   "execution_count": 6,
   "id": "7521064b",
   "metadata": {},
   "outputs": [
    {
     "ename": "IndexError",
     "evalue": "list index out of range",
     "output_type": "error",
     "traceback": [
      "\u001b[1;31m---------------------------------------------------------------------------\u001b[0m",
      "\u001b[1;31mIndexError\u001b[0m                                Traceback (most recent call last)",
      "Input \u001b[1;32mIn [6]\u001b[0m, in \u001b[0;36m<cell line: 2>\u001b[1;34m()\u001b[0m\n\u001b[0;32m      1\u001b[0m a \u001b[38;5;241m=\u001b[39m [ \u001b[38;5;241m1\u001b[39m,\u001b[38;5;241m2\u001b[39m,\u001b[38;5;241m3\u001b[39m]\n\u001b[1;32m----> 2\u001b[0m \u001b[38;5;28mprint\u001b[39m(\u001b[43ma\u001b[49m\u001b[43m[\u001b[49m\u001b[38;5;241;43m3\u001b[39;49m\u001b[43m]\u001b[49m)\n",
      "\u001b[1;31mIndexError\u001b[0m: list index out of range"
     ]
    }
   ],
   "source": [
    "a = [ 1,2,3]\n",
    "print(a[3])"
   ]
  },
  {
   "cell_type": "markdown",
   "id": "df9bd2dc",
   "metadata": {},
   "source": [
    "### But we can add item in list without defining at any position "
   ]
  },
  {
   "cell_type": "markdown",
   "id": "3d74991a",
   "metadata": {},
   "source": [
    "##### Example-:"
   ]
  },
  {
   "cell_type": "code",
   "execution_count": 12,
   "id": "87ad37a5",
   "metadata": {},
   "outputs": [
    {
     "name": "stdout",
     "output_type": "stream",
     "text": [
      "[1, 2, 3, 4, 7]\n",
      "5\n"
     ]
    }
   ],
   "source": [
    "a = [ 1,2,3]\n",
    "\n",
    "a.insert(3,4)\n",
    "a.insert(8,7) # here 7 will be in index 8 so total index in a becomes 8 but characters will only be 5 \n",
    "\n",
    "print(a)\n",
    "print(len(a))"
   ]
  },
  {
   "cell_type": "code",
   "execution_count": 5,
   "id": "8d809c07",
   "metadata": {},
   "outputs": [
    {
     "name": "stdout",
     "output_type": "stream",
     "text": [
      "computer used by  raj is  lenovo\n",
      "computer used by  trent is  hp\n",
      "computer used by  mo is  dell\n"
     ]
    }
   ],
   "source": [
    "a = ['raj','trent','mo']\n",
    "b = ['lenovo','hp','dell']\n",
    " \n",
    "# here len(a) = len(b) = 3 so indexes are 0,1,2 as last limit in range() is not included  \n",
    "\n",
    "for i in range (0,len(a)): # you can use len(b) here as well or use range(0,3), using this we can change index of a and b   \n",
    "    \n",
    "    print('computer used by ',a[i],'is ',b[i])#  a[] and b[]  here are indexes that are constantly changing"
   ]
  },
  {
   "cell_type": "code",
   "execution_count": 15,
   "id": "e08009cf",
   "metadata": {},
   "outputs": [
    {
     "name": "stdout",
     "output_type": "stream",
     "text": [
      "computer used by  raj is  lenovo\n",
      "computer used by  trent is  hp\n"
     ]
    }
   ],
   "source": [
    "a = ['raj','trent','mo']\n",
    "b = ['lenovo','hp','dell']\n",
    "\n",
    "for i in range (0,2):          # Note 2 is not included in range(0,2) so index a[2] or b[2] won't be included              \n",
    "                                                # using this we can change index of a and b according to our need\n",
    "    print('computer used by ',a[i],'is ',b[i])     # a[] and b[]  here are indexes that are constantly changing"
   ]
  },
  {
   "cell_type": "markdown",
   "id": "5d679adf",
   "metadata": {},
   "source": [
    "####  Format function"
   ]
  },
  {
   "cell_type": "code",
   "execution_count": 9,
   "id": "d57f6854",
   "metadata": {},
   "outputs": [
    {
     "name": "stdout",
     "output_type": "stream",
     "text": [
      "computer used by raj is lenovo\n",
      "computer used by trent is hp\n",
      "computer used by mo is dell\n"
     ]
    }
   ],
   "source": [
    "a = ['raj','trent','mo']\n",
    "b = ['lenovo','hp','dell']\n",
    "c = 'computer used by {} is {}'\n",
    "\n",
    "for i in range (0,len(a)):\n",
    "    print(c.format(a[i],b[i]))"
   ]
  },
  {
   "cell_type": "code",
   "execution_count": 23,
   "id": "2973f68a",
   "metadata": {},
   "outputs": [
    {
     "name": "stdout",
     "output_type": "stream",
     "text": [
      "0\n",
      "1\n",
      "2\n",
      "3\n",
      "4\n",
      "5\n",
      "6\n",
      "7\n",
      "8\n"
     ]
    }
   ],
   "source": [
    "for i in range(9):\n",
    "    print(i)\n"
   ]
  },
  {
   "cell_type": "markdown",
   "id": "3ab626e6",
   "metadata": {},
   "source": [
    "# Tuples "
   ]
  },
  {
   "cell_type": "markdown",
   "id": "4a7bd07a",
   "metadata": {},
   "source": [
    "### A tuple is an immutable data type in python while List is mutable"
   ]
  },
  {
   "cell_type": "markdown",
   "id": "4802523e",
   "metadata": {},
   "source": [
    "#### This is a tuple a= ('hi','hey','hello',)\n",
    "#### Tuple is read only it can't be changed"
   ]
  },
  {
   "cell_type": "markdown",
   "id": "29b2e3da",
   "metadata": {},
   "source": [
    "#### a = ()          this is a empty tuple\n",
    "#### a= ('hi',)      this is a tuple with single element\n",
    "#### a=('hi')        this is a wrong way to write tuple with single element , it will be seen as a variable not tuple"
   ]
  },
  {
   "cell_type": "code",
   "execution_count": 2,
   "id": "b23dda49",
   "metadata": {},
   "outputs": [
    {
     "ename": "TypeError",
     "evalue": "'tuple' object does not support item assignment",
     "output_type": "error",
     "traceback": [
      "\u001b[1;31m---------------------------------------------------------------------------\u001b[0m",
      "\u001b[1;31mTypeError\u001b[0m                                 Traceback (most recent call last)",
      "Input \u001b[1;32mIn [2]\u001b[0m, in \u001b[0;36m<cell line: 2>\u001b[1;34m()\u001b[0m\n\u001b[0;32m      1\u001b[0m a \u001b[38;5;241m=\u001b[39m (\u001b[38;5;124m'\u001b[39m\u001b[38;5;124mhi\u001b[39m\u001b[38;5;124m'\u001b[39m,\u001b[38;5;124m'\u001b[39m\u001b[38;5;124mhey\u001b[39m\u001b[38;5;124m'\u001b[39m,\u001b[38;5;124m'\u001b[39m\u001b[38;5;124mhello\u001b[39m\u001b[38;5;124m'\u001b[39m)\n\u001b[1;32m----> 2\u001b[0m a[\u001b[38;5;241m0\u001b[39m] \u001b[38;5;241m=\u001b[39m \u001b[38;5;124m'\u001b[39m\u001b[38;5;124mHEYA\u001b[39m\u001b[38;5;124m'\u001b[39m\n\u001b[0;32m      3\u001b[0m \u001b[38;5;28mprint\u001b[39m(a)\n",
      "\u001b[1;31mTypeError\u001b[0m: 'tuple' object does not support item assignment"
     ]
    }
   ],
   "source": [
    "a = ('hi','hey','hello')\n",
    "a[0] = 'HEYA'\n",
    "print(a)\n",
    "\n",
    "# You can't change items in tuple"
   ]
  },
  {
   "cell_type": "markdown",
   "id": "9684c5b6",
   "metadata": {},
   "source": [
    "### Tuple methods\n",
    "\n",
    "#### .count = to tell no. of times an item is there in tuple\n",
    "#### .index = to tell the index of item in tuple\n",
    "\n",
    "### Note that any of methods can't change items in tuple"
   ]
  },
  {
   "cell_type": "code",
   "execution_count": 6,
   "id": "7676d8b4",
   "metadata": {},
   "outputs": [
    {
     "name": "stdout",
     "output_type": "stream",
     "text": [
      "0\n",
      "1\n"
     ]
    }
   ],
   "source": [
    "a = ('hi','hey','hello')\n",
    "\n",
    "print(a.index('hi'))\n",
    "\n",
    "print(a.count('hi'))"
   ]
  },
  {
   "cell_type": "markdown",
   "id": "35f6f7ce",
   "metadata": {},
   "source": [
    "#### We use tuple when we don't want our list in program to get modified or change"
   ]
  },
  {
   "cell_type": "markdown",
   "id": "4d993216",
   "metadata": {},
   "source": [
    "### Unpacking\n",
    "\n",
    "we use unpacking with lists far reducting code length\n",
    "\n",
    "we can use unpacking with lists and tuples\n",
    "\n",
    "##### a=[1,2,3]\n",
    "\n",
    " y = a[1]   \n",
    " \n",
    " x = a[0]\n",
    " \n",
    " z = a[2]\n",
    " \n",
    "this is same as x,y,z=a \n",
    "\n",
    "###### this is unpacking"
   ]
  },
  {
   "cell_type": "code",
   "execution_count": 18,
   "id": "6ed5b126",
   "metadata": {},
   "outputs": [
    {
     "name": "stdout",
     "output_type": "stream",
     "text": [
      "3\n"
     ]
    }
   ],
   "source": [
    "a=[1,2,3]\n",
    "x,y,z=a\n",
    "print(z)"
   ]
  },
  {
   "cell_type": "code",
   "execution_count": null,
   "id": "fe1a5b83",
   "metadata": {},
   "outputs": [],
   "source": []
  }
 ],
 "metadata": {
  "kernelspec": {
   "display_name": "Python 3 (ipykernel)",
   "language": "python",
   "name": "python3"
  },
  "language_info": {
   "codemirror_mode": {
    "name": "ipython",
    "version": 3
   },
   "file_extension": ".py",
   "mimetype": "text/x-python",
   "name": "python",
   "nbconvert_exporter": "python",
   "pygments_lexer": "ipython3",
   "version": "3.9.13"
  }
 },
 "nbformat": 4,
 "nbformat_minor": 5
}
