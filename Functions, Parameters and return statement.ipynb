{
 "cells": [
  {
   "cell_type": "markdown",
   "id": "589b36fa",
   "metadata": {},
   "source": [
    "### Function is a few lines of code that performs specific task "
   ]
  },
  {
   "cell_type": "markdown",
   "id": "450ea58e",
   "metadata": {},
   "source": [
    "### def \n",
    "def is reserve keyword in python and it's short far define\n",
    "#### def is used to define a code as function, "
   ]
  },
  {
   "cell_type": "code",
   "execution_count": 4,
   "id": "3a54900a",
   "metadata": {},
   "outputs": [
    {
     "name": "stdout",
     "output_type": "stream",
     "text": [
      "start\n",
      "Hi there\n",
      "Welcome\n",
      "finish\n"
     ]
    }
   ],
   "source": [
    "def greeting ():\n",
    "    print('Hi there')\n",
    "    print('Welcome')\n",
    "\n",
    "                 # always give two line breaks after defining a function\n",
    "print('start')\n",
    "greeting()\n",
    "print('finish')"
   ]
  },
  {
   "cell_type": "markdown",
   "id": "fc28a5da",
   "metadata": {},
   "source": [
    "### Parameters\n",
    "\n",
    "###### Parameters -: Parameters are place holders for recieving information in functions\n",
    "\n",
    "\n",
    "In greeting() we can't add any information,\n",
    "\n",
    "To pass information to functions we can add Parameter inside parenthesis()"
   ]
  },
  {
   "cell_type": "markdown",
   "id": "25941600",
   "metadata": {},
   "source": [
    "###### example\n",
    "\n",
    "we can add a name parameter in greeting() to greeet a specific name"
   ]
  },
  {
   "cell_type": "code",
   "execution_count": 7,
   "id": "13b24555",
   "metadata": {},
   "outputs": [
    {
     "name": "stdout",
     "output_type": "stream",
     "text": [
      "start\n",
      "Hi there Aryan\n",
      "Welcome\n",
      "finish\n"
     ]
    }
   ],
   "source": [
    "def greeting (name):          # parameters acts just like variables\n",
    "    print(f'Hi there {name}')\n",
    "    print('Welcome')\n",
    "\n",
    "                 \n",
    "print('start')\n",
    "greeting('Aryan')\n",
    "print('finish')"
   ]
  },
  {
   "cell_type": "markdown",
   "id": "b81b05e6",
   "metadata": {},
   "source": [
    "###### When a function have a parameter we are obliged to give the value of it"
   ]
  },
  {
   "cell_type": "code",
   "execution_count": 8,
   "id": "e3a0b447",
   "metadata": {},
   "outputs": [
    {
     "name": "stdout",
     "output_type": "stream",
     "text": [
      "start\n"
     ]
    },
    {
     "ename": "TypeError",
     "evalue": "greeting() missing 1 required positional argument: 'name'",
     "output_type": "error",
     "traceback": [
      "\u001b[1;31m---------------------------------------------------------------------------\u001b[0m",
      "\u001b[1;31mTypeError\u001b[0m                                 Traceback (most recent call last)",
      "Input \u001b[1;32mIn [8]\u001b[0m, in \u001b[0;36m<cell line: 7>\u001b[1;34m()\u001b[0m\n\u001b[0;32m      3\u001b[0m     \u001b[38;5;28mprint\u001b[39m(\u001b[38;5;124m'\u001b[39m\u001b[38;5;124mWelcome\u001b[39m\u001b[38;5;124m'\u001b[39m)\n\u001b[0;32m      6\u001b[0m \u001b[38;5;28mprint\u001b[39m(\u001b[38;5;124m'\u001b[39m\u001b[38;5;124mstart\u001b[39m\u001b[38;5;124m'\u001b[39m)\n\u001b[1;32m----> 7\u001b[0m \u001b[43mgreeting\u001b[49m\u001b[43m(\u001b[49m\u001b[43m)\u001b[49m         \u001b[38;5;66;03m# here Argument is not there\u001b[39;00m\n\u001b[0;32m      8\u001b[0m \u001b[38;5;28mprint\u001b[39m(\u001b[38;5;124m'\u001b[39m\u001b[38;5;124mfinish\u001b[39m\u001b[38;5;124m'\u001b[39m)\n",
      "\u001b[1;31mTypeError\u001b[0m: greeting() missing 1 required positional argument: 'name'"
     ]
    }
   ],
   "source": [
    "def greeting (name):         \n",
    "    print(f'Hi there {name}')\n",
    "    print('Welcome')\n",
    "\n",
    "                 \n",
    "print('start')\n",
    "greeting()         # here Argument is not there\n",
    "print('finish')"
   ]
  },
  {
   "cell_type": "markdown",
   "id": "7ed3f3b3",
   "metadata": {},
   "source": [
    "#### Difference in Arguments and  Parameters\n",
    "\n",
    "Arguments are like data or values in functions and Parameters are like variables in functions\n",
    "\n",
    "Arguments are values of parameters just like data is value of variables"
   ]
  },
  {
   "cell_type": "code",
   "execution_count": 15,
   "id": "4035e657",
   "metadata": {},
   "outputs": [
    {
     "name": "stdout",
     "output_type": "stream",
     "text": [
      "start\n",
      "Hi there Aryan Inguz\n",
      "Welcome\n",
      "finish\n"
     ]
    }
   ],
   "source": [
    "def greeting (first_name,last_name):         \n",
    "    print(f'Hi there {first_name} {last_name}')\n",
    "    print('Welcome')\n",
    "\n",
    "                 \n",
    "print('start')\n",
    "greeting('Aryan', 'Inguz')        \n",
    "print('finish')\n",
    "\n",
    "\n",
    "# first_name and last_name are two parameters\n",
    "#'Aryan' and 'Inguz' are two arguments \n",
    "\n",
    "# 'Aryan' is value of first_name\n",
    "# 'Inguz' is value of last_name\n",
    "\n",
    "# These are positional arguments their position matters \n",
    "# you can't write 'Aryan' argument after 'Inguz' argument in greeting() \n"
   ]
  },
  {
   "cell_type": "markdown",
   "id": "3ae71c4f",
   "metadata": {},
   "source": [
    "######  Keyword arguments -: Keyword arguments are arguments with which position doesn't matters"
   ]
  },
  {
   "cell_type": "code",
   "execution_count": 16,
   "id": "90533b15",
   "metadata": {},
   "outputs": [
    {
     "name": "stdout",
     "output_type": "stream",
     "text": [
      "start\n",
      "Hi there Aryan Inguz\n",
      "Welcome\n",
      "finish\n"
     ]
    }
   ],
   "source": [
    "def greeting (first_name,last_name):         \n",
    "    print(f'Hi there {first_name} {last_name}')\n",
    "    print('Welcome')\n",
    "\n",
    "                 \n",
    "print('start')\n",
    "greeting(last_name='Inguz',first_name='Aryan') \n",
    "\n",
    "# here you can write 'Aryan'argument after 'Inguz' argument\n",
    "# because we have defined it in function     \n",
    "\n",
    "print('finish')"
   ]
  },
  {
   "cell_type": "markdown",
   "id": "50b5868c",
   "metadata": {},
   "source": [
    "##### You can also mix Positional Arguments with Keyword Arguments \n",
    "But when mixing these two arguments always use Positional argument first"
   ]
  },
  {
   "cell_type": "code",
   "execution_count": 18,
   "id": "b395e627",
   "metadata": {},
   "outputs": [
    {
     "ename": "SyntaxError",
     "evalue": "positional argument follows keyword argument (1840001419.py, line 7)",
     "output_type": "error",
     "traceback": [
      "\u001b[1;36m  Input \u001b[1;32mIn [18]\u001b[1;36m\u001b[0m\n\u001b[1;33m    greeting(last_name='Inguz','Aryan')\u001b[0m\n\u001b[1;37m                                      ^\u001b[0m\n\u001b[1;31mSyntaxError\u001b[0m\u001b[1;31m:\u001b[0m positional argument follows keyword argument\n"
     ]
    }
   ],
   "source": [
    "def greeting (first_name,last_name):         \n",
    "    print(f'Hi there {first_name} {last_name}')\n",
    "    print('Welcome')\n",
    "\n",
    "                 \n",
    "print('start')\n",
    "greeting(last_name='Inguz','Aryan') "
   ]
  },
  {
   "cell_type": "code",
   "execution_count": 21,
   "id": "0032f5fe",
   "metadata": {},
   "outputs": [
    {
     "name": "stdout",
     "output_type": "stream",
     "text": [
      "start\n",
      "Hi there Aryan Inguz\n",
      "Welcome\n"
     ]
    }
   ],
   "source": [
    "def greeting (first_name,last_name):         \n",
    "    print(f'Hi there {first_name} {last_name}')\n",
    "    print('Welcome')\n",
    "\n",
    "                 \n",
    "print('start')\n",
    "greeting('Aryan',last_name='Inguz') "
   ]
  },
  {
   "cell_type": "markdown",
   "id": "d29a91e6",
   "metadata": {},
   "source": [
    "###  return statement - : \n",
    "return statement helps in calculation and returning information"
   ]
  },
  {
   "cell_type": "code",
   "execution_count": 9,
   "id": "82dfe44e",
   "metadata": {},
   "outputs": [
    {
     "name": "stdout",
     "output_type": "stream",
     "text": [
      "enter a number 3\n",
      "square of the number is 9\n"
     ]
    }
   ],
   "source": [
    "def square(number):\n",
    "    return number * number\n",
    "\n",
    "number = int(input('enter a number '))\n",
    "print('square of the number is',square(number))\n"
   ]
  },
  {
   "cell_type": "markdown",
   "id": "557d6f08",
   "metadata": {},
   "source": [
    "#### using print instead of return statement "
   ]
  },
  {
   "cell_type": "code",
   "execution_count": 11,
   "id": "0f2cff79",
   "metadata": {},
   "outputs": [
    {
     "name": "stdout",
     "output_type": "stream",
     "text": [
      "enter a number 3\n",
      "9\n",
      "square of the number is None\n"
     ]
    }
   ],
   "source": [
    "def square(number):\n",
    "    print(number * number) \n",
    "\n",
    "number = int(input('enter a number '))\n",
    "print('square of the number is',square(number))\n",
    "\n",
    "# difference in print and return statement is that functions give none in last \n",
    "# so print will give none at last after giving our value"
   ]
  },
  {
   "cell_type": "markdown",
   "id": "e35af644",
   "metadata": {},
   "source": [
    "###### we can also use one paramter only aswell "
   ]
  },
  {
   "cell_type": "code",
   "execution_count": 12,
   "id": "83a52657",
   "metadata": {},
   "outputs": [
    {
     "name": "stdout",
     "output_type": "stream",
     "text": [
      "start\n",
      "Hi there Aryan\n",
      "Welcome\n"
     ]
    }
   ],
   "source": [
    "def greeting (first_name):         \n",
    "    print(f'Hi there {first_name}')\n",
    "    print('Welcome')\n",
    "\n",
    "                 \n",
    "print('start')\n",
    "greeting('Aryan') "
   ]
  },
  {
   "cell_type": "markdown",
   "id": "367262e9",
   "metadata": {},
   "source": [
    "###### default parameter value or default argument "
   ]
  },
  {
   "cell_type": "code",
   "execution_count": 13,
   "id": "a6d08f5a",
   "metadata": {},
   "outputs": [
    {
     "name": "stdout",
     "output_type": "stream",
     "text": [
      "start\n",
      "Hi there Aryan\n",
      "Welcome\n"
     ]
    },
    {
     "ename": "TypeError",
     "evalue": "greeting() missing 1 required positional argument: 'first_name'",
     "output_type": "error",
     "traceback": [
      "\u001b[1;31m---------------------------------------------------------------------------\u001b[0m",
      "\u001b[1;31mTypeError\u001b[0m                                 Traceback (most recent call last)",
      "Input \u001b[1;32mIn [13]\u001b[0m, in \u001b[0;36m<cell line: 8>\u001b[1;34m()\u001b[0m\n\u001b[0;32m      6\u001b[0m \u001b[38;5;28mprint\u001b[39m(\u001b[38;5;124m'\u001b[39m\u001b[38;5;124mstart\u001b[39m\u001b[38;5;124m'\u001b[39m)\n\u001b[0;32m      7\u001b[0m greeting(\u001b[38;5;124m'\u001b[39m\u001b[38;5;124mAryan\u001b[39m\u001b[38;5;124m'\u001b[39m) \n\u001b[1;32m----> 8\u001b[0m \u001b[43mgreeting\u001b[49m\u001b[43m(\u001b[49m\u001b[43m)\u001b[49m\n",
      "\u001b[1;31mTypeError\u001b[0m: greeting() missing 1 required positional argument: 'first_name'"
     ]
    }
   ],
   "source": [
    "def greeting (first_name):         \n",
    "    print(f'Hi there {first_name}')\n",
    "    print('Welcome')\n",
    "\n",
    "                 \n",
    "print('start')\n",
    "greeting('Aryan') \n",
    "greeting()               # here we did't add any argument and got an error"
   ]
  },
  {
   "cell_type": "code",
   "execution_count": 14,
   "id": "4b62ebc9",
   "metadata": {},
   "outputs": [
    {
     "name": "stdout",
     "output_type": "stream",
     "text": [
      "start\n",
      "Hi there Aryan\n",
      "Welcome\n",
      "Hi there stranger\n",
      "Welcome\n"
     ]
    }
   ],
   "source": [
    "# to add a defalut argumenmt when no argument is added in function we use default argument\n",
    "\n",
    "def greeting (first_name='stranger'):         \n",
    "    print(f'Hi there {first_name}')\n",
    "    print('Welcome')\n",
    "\n",
    "                 \n",
    "print('start')\n",
    "greeting('Aryan') \n",
    "greeting() "
   ]
  },
  {
   "cell_type": "code",
   "execution_count": null,
   "id": "9e940c89",
   "metadata": {},
   "outputs": [],
   "source": []
  }
 ],
 "metadata": {
  "kernelspec": {
   "display_name": "Python 3 (ipykernel)",
   "language": "python",
   "name": "python3"
  },
  "language_info": {
   "codemirror_mode": {
    "name": "ipython",
    "version": 3
   },
   "file_extension": ".py",
   "mimetype": "text/x-python",
   "name": "python",
   "nbconvert_exporter": "python",
   "pygments_lexer": "ipython3",
   "version": "3.9.12"
  }
 },
 "nbformat": 4,
 "nbformat_minor": 5
}
