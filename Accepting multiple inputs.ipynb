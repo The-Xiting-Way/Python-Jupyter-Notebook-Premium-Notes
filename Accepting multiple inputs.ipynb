{
 "cells": [
  {
   "cell_type": "code",
   "execution_count": 1,
   "id": "9bf14510",
   "metadata": {},
   "outputs": [
    {
     "name": "stdout",
     "output_type": "stream",
     "text": [
      "2 3 4 5 \n",
      "['2', '3', '4', '5']\n"
     ]
    }
   ],
   "source": [
    "a = input().split()   # if () for split is empty it means space , you can chang that by putting value in () \n",
    "print(a)"
   ]
  },
  {
   "cell_type": "code",
   "execution_count": 3,
   "id": "3125d256",
   "metadata": {},
   "outputs": [
    {
     "name": "stdout",
     "output_type": "stream",
     "text": [
      "1 2 3 4 5\n",
      "c is  3\n"
     ]
    }
   ],
   "source": [
    "a,b,c,d,e=input().split()\n",
    "\n",
    "print('c is ', c)"
   ]
  },
  {
   "cell_type": "markdown",
   "id": "a75caaca",
   "metadata": {},
   "source": [
    "###### But this won't work for integer input "
   ]
  },
  {
   "cell_type": "code",
   "execution_count": 9,
   "id": "09fa7b09",
   "metadata": {},
   "outputs": [
    {
     "name": "stdout",
     "output_type": "stream",
     "text": [
      "1 2 3\n"
     ]
    },
    {
     "ename": "TypeError",
     "evalue": "int() argument must be a string, a bytes-like object or a number, not 'list'",
     "output_type": "error",
     "traceback": [
      "\u001b[1;31m---------------------------------------------------------------------------\u001b[0m",
      "\u001b[1;31mTypeError\u001b[0m                                 Traceback (most recent call last)",
      "\u001b[1;32m~\\AppData\\Local\\Temp\\ipykernel_13004\\433521647.py\u001b[0m in \u001b[0;36m<module>\u001b[1;34m\u001b[0m\n\u001b[1;32m----> 1\u001b[1;33m \u001b[0ma\u001b[0m\u001b[1;33m=\u001b[0m \u001b[0mint\u001b[0m\u001b[1;33m(\u001b[0m\u001b[0minput\u001b[0m\u001b[1;33m(\u001b[0m\u001b[1;33m)\u001b[0m\u001b[1;33m.\u001b[0m\u001b[0msplit\u001b[0m\u001b[1;33m(\u001b[0m\u001b[1;33m)\u001b[0m\u001b[1;33m)\u001b[0m\u001b[1;33m\u001b[0m\u001b[1;33m\u001b[0m\u001b[0m\n\u001b[0m\u001b[0;32m      2\u001b[0m \u001b[0mprint\u001b[0m\u001b[1;33m(\u001b[0m\u001b[0ma\u001b[0m\u001b[1;33m)\u001b[0m\u001b[1;33m\u001b[0m\u001b[1;33m\u001b[0m\u001b[0m\n",
      "\u001b[1;31mTypeError\u001b[0m: int() argument must be a string, a bytes-like object or a number, not 'list'"
     ]
    }
   ],
   "source": [
    "a= int(input().split())\n",
    "print(a)"
   ]
  },
  {
   "cell_type": "markdown",
   "id": "fca240d3",
   "metadata": {},
   "source": [
    "### To work for multiple integer input use map() inside map first enter type of data type, input().split() and done"
   ]
  },
  {
   "cell_type": "code",
   "execution_count": 3,
   "id": "4cb6bd61",
   "metadata": {},
   "outputs": [
    {
     "name": "stdout",
     "output_type": "stream",
     "text": [
      "1 2\n",
      "a is 1\n"
     ]
    }
   ],
   "source": [
    "a,b = map(int,input().split())\n",
    "\n",
    "print('a is', a)"
   ]
  },
  {
   "cell_type": "code",
   "execution_count": 7,
   "id": "4f0953c9",
   "metadata": {
    "scrolled": true
   },
   "outputs": [
    {
     "name": "stdout",
     "output_type": "stream",
     "text": [
      "1 2 3\n",
      "<map object at 0x000001FE2B0A27F0>\n"
     ]
    }
   ],
   "source": [
    "a = map(int,input().split())\n",
    "print(a) \n",
    "\n",
    "# map can't make list automatically for that use list(map()) to get a list"
   ]
  },
  {
   "cell_type": "code",
   "execution_count": 5,
   "id": "88fc597c",
   "metadata": {},
   "outputs": [
    {
     "name": "stdout",
     "output_type": "stream",
     "text": [
      "1 2 3\n",
      "[1, 2, 3]\n"
     ]
    }
   ],
   "source": [
    "a = list(map(int,input().split()))\n",
    "print(a)"
   ]
  },
  {
   "cell_type": "markdown",
   "id": "ff4a5913",
   "metadata": {},
   "source": [
    "###### Note don't add more values in a if not mentioned a variable for it "
   ]
  },
  {
   "cell_type": "code",
   "execution_count": 4,
   "id": "d8fdc9cb",
   "metadata": {},
   "outputs": [
    {
     "name": "stdout",
     "output_type": "stream",
     "text": [
      "1 2 3\n"
     ]
    },
    {
     "ename": "ValueError",
     "evalue": "too many values to unpack (expected 2)",
     "output_type": "error",
     "traceback": [
      "\u001b[1;31m---------------------------------------------------------------------------\u001b[0m",
      "\u001b[1;31mValueError\u001b[0m                                Traceback (most recent call last)",
      "Input \u001b[1;32mIn [4]\u001b[0m, in \u001b[0;36m<cell line: 1>\u001b[1;34m()\u001b[0m\n\u001b[1;32m----> 1\u001b[0m a,b \u001b[38;5;241m=\u001b[39m \u001b[38;5;28mmap\u001b[39m(\u001b[38;5;28mint\u001b[39m,\u001b[38;5;28minput\u001b[39m()\u001b[38;5;241m.\u001b[39msplit())\n\u001b[0;32m      3\u001b[0m \u001b[38;5;28mprint\u001b[39m(\u001b[38;5;124m'\u001b[39m\u001b[38;5;124ma is\u001b[39m\u001b[38;5;124m'\u001b[39m, a)\n",
      "\u001b[1;31mValueError\u001b[0m: too many values to unpack (expected 2)"
     ]
    }
   ],
   "source": [
    "a,b = map(int,input().split())\n",
    "\n",
    "print('a is', a)"
   ]
  },
  {
   "cell_type": "markdown",
   "id": "b0c4124e",
   "metadata": {},
   "source": [
    "### you can make a list,tuple,etc of multiple inputs too "
   ]
  },
  {
   "cell_type": "markdown",
   "id": "d6b9abe9",
   "metadata": {},
   "source": [
    "###### list "
   ]
  },
  {
   "cell_type": "code",
   "execution_count": 8,
   "id": "a51b8007",
   "metadata": {},
   "outputs": [
    {
     "name": "stdout",
     "output_type": "stream",
     "text": [
      "1 2 3 4 5\n",
      "a is [1, 2, 3, 4, 5]\n"
     ]
    }
   ],
   "source": [
    "a = list(map(int,input().split()))\n",
    "\n",
    "print('a is', a)"
   ]
  },
  {
   "cell_type": "markdown",
   "id": "7c897929",
   "metadata": {},
   "source": [
    "###### 2D List"
   ]
  },
  {
   "cell_type": "code",
   "execution_count": 19,
   "id": "90fb51d2",
   "metadata": {},
   "outputs": [
    {
     "name": "stdout",
     "output_type": "stream",
     "text": [
      "enter no. of rows3 \n",
      "1 2 3\n",
      "1 2 3\n",
      "1 2 3\n",
      "[[1, 2, 3], [1, 2, 3], [1, 2, 3]]\n"
     ]
    }
   ],
   "source": [
    "n = int(input('enter no. of rows'))\n",
    "a = [list( int(j) for j in input().split() ) for i in range(n)]\n",
    "print(a)"
   ]
  },
  {
   "cell_type": "markdown",
   "id": "52c0504f",
   "metadata": {},
   "source": [
    "###### Tuple in list "
   ]
  },
  {
   "cell_type": "code",
   "execution_count": 24,
   "id": "bedf962d",
   "metadata": {
    "scrolled": true
   },
   "outputs": [
    {
     "name": "stdout",
     "output_type": "stream",
     "text": [
      "no.  of rows 3\n",
      "1 2 3\n",
      "1 2 2\n",
      "1 2 3\n",
      "[(1, 2, 3), (1, 2, 2), (1, 2, 3)]\n",
      "[[1, 2, 3], [1, 2, 2], [1, 2, 3]]\n"
     ]
    }
   ],
   "source": [
    "n = int(input('no.  of rows '))\n",
    "t = [tuple(int(j) for j in input().split()) for i in range(n)]\n",
    "print(t)\n",
    "\n",
    "# then back to 2d list \n",
    "print([list(i) for i in t])"
   ]
  },
  {
   "cell_type": "markdown",
   "id": "74b639f9",
   "metadata": {},
   "source": [
    "###### Set in list"
   ]
  },
  {
   "cell_type": "code",
   "execution_count": 22,
   "id": "3720c754",
   "metadata": {},
   "outputs": [
    {
     "name": "stdout",
     "output_type": "stream",
     "text": [
      "enter no. of rows3\n",
      "1 2 2\n",
      "1 1 1\n",
      "1 2 3\n",
      "[{1, 2}, {1}, {1, 2, 3}]\n"
     ]
    }
   ],
   "source": [
    "n = int(input('enter no. of rows'))\n",
    "a = [set( int(j) for j in input().split() ) for i in range(n)]\n",
    "print(a)"
   ]
  },
  {
   "cell_type": "markdown",
   "id": "9ffceac3",
   "metadata": {},
   "source": [
    "###### tuple "
   ]
  },
  {
   "cell_type": "code",
   "execution_count": 9,
   "id": "e80892c8",
   "metadata": {},
   "outputs": [
    {
     "name": "stdout",
     "output_type": "stream",
     "text": [
      "1 2 3 4 5\n",
      "a is (1, 2, 3, 4, 5)\n"
     ]
    }
   ],
   "source": [
    "a = tuple(map(int,input().split()))\n",
    "\n",
    "print('a is', a)"
   ]
  },
  {
   "cell_type": "markdown",
   "id": "b324a7d3",
   "metadata": {},
   "source": [
    "###### set"
   ]
  },
  {
   "cell_type": "code",
   "execution_count": 16,
   "id": "4c21e798",
   "metadata": {},
   "outputs": [
    {
     "name": "stdout",
     "output_type": "stream",
     "text": [
      "1 2 3 4 5 5 5 5 5\n",
      "a is {1, 2, 3, 4, 5}\n"
     ]
    }
   ],
   "source": [
    "a = set(map(int,input().split()))\n",
    "\n",
    "print('a is', a)"
   ]
  },
  {
   "cell_type": "markdown",
   "id": "4bbe3c3e",
   "metadata": {},
   "source": [
    "###### benefit of this"
   ]
  },
  {
   "cell_type": "code",
   "execution_count": 1,
   "id": "5cfa2d65",
   "metadata": {},
   "outputs": [
    {
     "name": "stdout",
     "output_type": "stream",
     "text": [
      "1 2 3 4\n",
      "[1, 2, 3, 4]\n",
      "hi\n",
      "hi\n",
      "hi\n",
      "hi\n"
     ]
    }
   ],
   "source": [
    "a = list(map(int,(input().split())))\n",
    "print(a)\n",
    "for i in range(a[3]):  # range will be a[3] = 4th number\n",
    "    print('hi')"
   ]
  },
  {
   "cell_type": "code",
   "execution_count": 12,
   "id": "289fc5ee",
   "metadata": {},
   "outputs": [
    {
     "name": "stdout",
     "output_type": "stream",
     "text": [
      "1 2 3\n",
      "(1, 2, 3)\n"
     ]
    }
   ],
   "source": [
    "a = tuple(int(x) for x in input().split())\n",
    "print(a)"
   ]
  },
  {
   "cell_type": "code",
   "execution_count": 16,
   "id": "563d6440",
   "metadata": {},
   "outputs": [
    {
     "name": "stdout",
     "output_type": "stream",
     "text": [
      "1 2 3\n",
      "[1, 2, 3]\n"
     ]
    }
   ],
   "source": [
    "a=list(map(int,input().split()))\n",
    "print(a)"
   ]
  },
  {
   "cell_type": "code",
   "execution_count": 3,
   "id": "46f4c12d",
   "metadata": {},
   "outputs": [
    {
     "name": "stdout",
     "output_type": "stream",
     "text": [
      "hi\n",
      "jjnn\n",
      "jnjnj\n",
      "gttv f\n"
     ]
    }
   ],
   "source": [
    "print('''hi\n",
    "jjnn\n",
    "jnjnj\n",
    "gttv f''')"
   ]
  },
  {
   "cell_type": "code",
   "execution_count": null,
   "id": "a5ac2a7d",
   "metadata": {},
   "outputs": [],
   "source": []
  }
 ],
 "metadata": {
  "kernelspec": {
   "display_name": "Python 3 (ipykernel)",
   "language": "python",
   "name": "python3"
  },
  "language_info": {
   "codemirror_mode": {
    "name": "ipython",
    "version": 3
   },
   "file_extension": ".py",
   "mimetype": "text/x-python",
   "name": "python",
   "nbconvert_exporter": "python",
   "pygments_lexer": "ipython3",
   "version": "3.9.13"
  }
 },
 "nbformat": 4,
 "nbformat_minor": 5
}
