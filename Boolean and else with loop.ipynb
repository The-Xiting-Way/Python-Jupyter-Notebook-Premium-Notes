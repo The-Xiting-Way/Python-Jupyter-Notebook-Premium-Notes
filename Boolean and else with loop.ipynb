{
 "cells": [
  {
   "cell_type": "markdown",
   "id": "f06ea21d",
   "metadata": {},
   "source": [
    "#### Program to check two variables using bool data type"
   ]
  },
  {
   "cell_type": "code",
   "execution_count": 1,
   "id": "319daace",
   "metadata": {},
   "outputs": [
    {
     "name": "stdout",
     "output_type": "stream",
     "text": [
      "True\n"
     ]
    }
   ],
   "source": [
    "a = 2\n",
    "b = 3\n",
    "print(a>1)"
   ]
  },
  {
   "cell_type": "code",
   "execution_count": 2,
   "id": "434163bc",
   "metadata": {},
   "outputs": [
    {
     "name": "stdout",
     "output_type": "stream",
     "text": [
      "False\n"
     ]
    }
   ],
   "source": [
    "a=2\n",
    "b=3\n",
    "print(a==b)"
   ]
  },
  {
   "cell_type": "code",
   "execution_count": 11,
   "id": "822c8e98",
   "metadata": {},
   "outputs": [
    {
     "name": "stdout",
     "output_type": "stream",
     "text": [
      "False\n",
      "True\n"
     ]
    }
   ],
   "source": [
    "# here it is taking a and b written above, you can write a and b as new values it will change then\n",
    "# but if not changed then latest variables values are taken\n",
    "c1 = a>10\n",
    "c2 = b < 10\n",
    "print(c1)\n",
    "print(c2)"
   ]
  },
  {
   "cell_type": "code",
   "execution_count": 6,
   "id": "9ca3548a",
   "metadata": {},
   "outputs": [
    {
     "name": "stdout",
     "output_type": "stream",
     "text": [
      "5\n",
      "3\n"
     ]
    }
   ],
   "source": [
    "# here value of a is changed but value of b remains same\n",
    "a = 5\n",
    "\n",
    "# here b is taken as b written above but a taken as latest written\n",
    "print(a)\n",
    "print(b)"
   ]
  },
  {
   "cell_type": "markdown",
   "id": "a2ae930e",
   "metadata": {},
   "source": [
    "### Logical Operators-: and , or , not"
   ]
  },
  {
   "cell_type": "code",
   "execution_count": 21,
   "id": "0719bac3",
   "metadata": {},
   "outputs": [
    {
     "name": "stdout",
     "output_type": "stream",
     "text": [
      "False\n",
      "True\n",
      "True\n"
     ]
    }
   ],
   "source": [
    "a= 5\n",
    "b= 5\n",
    "c1 = a>10\n",
    "c2 = b < 10\n",
    "x= not(c1)\n",
    "\n",
    "print(c2 and c1)   # for and both statements need to be true\n",
    "print(c1 or c2 )   # for or any one of the statements need to be true \n",
    "print(x)           # for not the opposite needs to be true"
   ]
  },
  {
   "cell_type": "markdown",
   "id": "410a3318",
   "metadata": {},
   "source": [
    "#### we can also store results of our logical operators boolean output as another variable"
   ]
  },
  {
   "cell_type": "code",
   "execution_count": 27,
   "id": "fbceb742",
   "metadata": {},
   "outputs": [
    {
     "name": "stdout",
     "output_type": "stream",
     "text": [
      "False\n",
      "True\n",
      "True\n"
     ]
    }
   ],
   "source": [
    "a= 5\n",
    "b= 5\n",
    "\n",
    "c1 = a>10\n",
    "c2 = b < 10\n",
    "\n",
    "z= c1 and c2\n",
    "m = c1 or c2\n",
    "n = not c1\n",
    "\n",
    "print(z)\n",
    "print(m)\n",
    "print(n)"
   ]
  },
  {
   "cell_type": "markdown",
   "id": "639bf8ff",
   "metadata": {},
   "source": [
    "### using else with for loop and while loop\n",
    "\n",
    " In most of the programming languages (C/C++, Java, etc), the use of else statement has been restricted with the if conditional statements.\n",
    "\n",
    " But Python also allows us to use the else condition with for loops. The else block just after for/while is executed only when the loop is NOT terminated by a break statement."
   ]
  },
  {
   "cell_type": "markdown",
   "id": "617a42e5",
   "metadata": {},
   "source": [
    "###### example "
   ]
  },
  {
   "cell_type": "code",
   "execution_count": 9,
   "id": "8204872c",
   "metadata": {},
   "outputs": [
    {
     "name": "stdout",
     "output_type": "stream",
     "text": [
      "hi\n",
      "hi\n",
      "hi\n",
      "done\n"
     ]
    }
   ],
   "source": [
    "i=0\n",
    "while i <3:\n",
    "    print('hi')\n",
    "    i=i+1\n",
    "else:\n",
    "    print('done')\n",
    "   \n",
    " # similarly you can do it in for loop aswell"
   ]
  },
  {
   "cell_type": "markdown",
   "id": "db22ec1a",
   "metadata": {},
   "source": [
    "###  program to check the composite no."
   ]
  },
  {
   "cell_type": "markdown",
   "id": "5913061a",
   "metadata": {},
   "source": [
    "###### right way"
   ]
  },
  {
   "cell_type": "code",
   "execution_count": 3,
   "id": "6fcabd91",
   "metadata": {},
   "outputs": [
    {
     "name": "stdout",
     "output_type": "stream",
     "text": [
      "enter no. 9\n",
      "no. is composite\n"
     ]
    }
   ],
   "source": [
    "a = int(input('enter no. '))\n",
    "\n",
    "for i in range(2,a):\n",
    "    if a%i==0:\n",
    "        print('no. is composite')\n",
    "        break\n",
    "else:\n",
    "    print('no. is not composite')\n",
    "    \n",
    "# it will only go to else only when all results in if statement is wrong  \n",
    "#using else in inside for and with if checks all values in else not final one"
   ]
  },
  {
   "cell_type": "markdown",
   "id": "e9f3faa2",
   "metadata": {},
   "source": [
    "###### wrong way"
   ]
  },
  {
   "cell_type": "code",
   "execution_count": 2,
   "id": "b8adf6ca",
   "metadata": {},
   "outputs": [
    {
     "name": "stdout",
     "output_type": "stream",
     "text": [
      "enter no. 9\n",
      "no. is not composite\n",
      "no. is composite\n"
     ]
    }
   ],
   "source": [
    "a = int(input('enter no. '))\n",
    "\n",
    "for i in range(2,a):\n",
    "    if a%i==0:\n",
    "        print('no. is composite')\n",
    "        break\n",
    "    else:\n",
    "        print('no. is not composite')\n",
    "        \n",
    "# This is the wrong way to solve this \n",
    "\n",
    "# here else will execute far all values in if loop wise not the final value\n",
    "# 9%2 give not composite and then 3%9 gives composite and then breaks  \n",
    "# using break in else too will only give not composite far 9 which is wrong,\n",
    "\n",
    "# so use else ouside of if and with for loop not inside for loop"
   ]
  },
  {
   "cell_type": "markdown",
   "id": "a845c7c3",
   "metadata": {},
   "source": [
    "#### floor division (//) also known as integer divison is same as divison but only gives integer value and rounds of float data in nearest integer value"
   ]
  },
  {
   "cell_type": "code",
   "execution_count": 8,
   "id": "f9d487a9",
   "metadata": {},
   "outputs": [
    {
     "name": "stdout",
     "output_type": "stream",
     "text": [
      "5\n"
     ]
    }
   ],
   "source": [
    "a=17\n",
    "print(a//3)   "
   ]
  },
  {
   "cell_type": "markdown",
   "id": "d42c45a6",
   "metadata": {},
   "source": [
    "### Wrong way to use boolean with if/else statements or loops  "
   ]
  },
  {
   "cell_type": "code",
   "execution_count": 10,
   "id": "04959e25",
   "metadata": {},
   "outputs": [
    {
     "name": "stdout",
     "output_type": "stream",
     "text": [
      "enter a no. 3\n",
      "yes\n"
     ]
    }
   ],
   "source": [
    "a = int(input('enter a no. '))\n",
    "if a == 1 or 2:\n",
    "    print('yes')\n",
    "else:\n",
    "    print('no')"
   ]
  },
  {
   "cell_type": "markdown",
   "id": "bc68cbb8",
   "metadata": {},
   "source": [
    "###  Right way to use boolean with if/else statements or loops  "
   ]
  },
  {
   "cell_type": "code",
   "execution_count": 11,
   "id": "76d76ce4",
   "metadata": {},
   "outputs": [
    {
     "name": "stdout",
     "output_type": "stream",
     "text": [
      "enter a no. 3\n",
      "no\n"
     ]
    }
   ],
   "source": [
    "a = int(input('enter a no. '))\n",
    "if a == 1 or a==2:\n",
    "    print('yes')\n",
    "else:\n",
    "    print('no')"
   ]
  },
  {
   "cell_type": "markdown",
   "id": "e4f1360e",
   "metadata": {},
   "source": [
    "### A more simple way to use boolean with if/else statements or loops   \n",
    "### Best way  "
   ]
  },
  {
   "cell_type": "code",
   "execution_count": 15,
   "id": "c07f16dd",
   "metadata": {},
   "outputs": [
    {
     "name": "stdout",
     "output_type": "stream",
     "text": [
      "enter a no. 3\n",
      "no\n"
     ]
    }
   ],
   "source": [
    "a = int(input('enter a no. '))\n",
    "if a in [1,2]:\n",
    "    print('yes')\n",
    "else:\n",
    "    print('no')"
   ]
  },
  {
   "cell_type": "code",
   "execution_count": null,
   "id": "3b65b0ee",
   "metadata": {},
   "outputs": [],
   "source": []
  }
 ],
 "metadata": {
  "kernelspec": {
   "display_name": "Python 3 (ipykernel)",
   "language": "python",
   "name": "python3"
  },
  "language_info": {
   "codemirror_mode": {
    "name": "ipython",
    "version": 3
   },
   "file_extension": ".py",
   "mimetype": "text/x-python",
   "name": "python",
   "nbconvert_exporter": "python",
   "pygments_lexer": "ipython3",
   "version": "3.9.13"
  }
 },
 "nbformat": 4,
 "nbformat_minor": 5
}
