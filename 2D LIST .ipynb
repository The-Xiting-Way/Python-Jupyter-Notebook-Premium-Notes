{
 "cells": [
  {
   "cell_type": "code",
   "execution_count": 2,
   "id": "773afeb3",
   "metadata": {},
   "outputs": [
    {
     "name": "stdout",
     "output_type": "stream",
     "text": [
      "enter no. of rows3 \n",
      "1 2 3\n",
      "1 1 1\n",
      "0 0 0\n",
      "[[1, 2, 3], [1, 1, 1], [0, 0, 0]]\n",
      "1\n"
     ]
    }
   ],
   "source": [
    "n = int(input('enter no. of rows'))\n",
    "a = [list( int(j) for j in input().split() ) for i in range(n)]\n",
    "print(a)\n",
    "\n",
    "print(a[0][0])    "
   ]
  },
  {
   "cell_type": "markdown",
   "id": "466b6ee8",
   "metadata": {},
   "source": [
    "### OR "
   ]
  },
  {
   "cell_type": "code",
   "execution_count": 6,
   "id": "35f31e42",
   "metadata": {},
   "outputs": [
    {
     "name": "stdout",
     "output_type": "stream",
     "text": [
      "enter no. of rows 3\n",
      "enter no. of columns 3\n",
      "enter value 1\n",
      "enter value 2\n",
      "enter value 3\n",
      "enter value 1\n",
      "enter value 1\n",
      "enter value 1\n",
      "enter value 0\n",
      "enter value 0\n",
      "enter value 0\n",
      "[[1, 2, 3], [1, 1, 1], [0, 0, 0]]\n"
     ]
    }
   ],
   "source": [
    "r = int(input('enter no. of rows '))\n",
    "c = int(input('enter no. of columns '))\n",
    "\n",
    "x = []\n",
    "for i in range(r):\n",
    "    z = []\n",
    "    for i2 in range(c):\n",
    "        n = int(input('enter value '))\n",
    "        z.append(n)\n",
    "    x.append(z)\n",
    "print(x)"
   ]
  },
  {
   "cell_type": "markdown",
   "id": "6f097d00",
   "metadata": {},
   "source": [
    "### Addition of two matrix "
   ]
  },
  {
   "cell_type": "code",
   "execution_count": 1,
   "id": "07e2703d",
   "metadata": {},
   "outputs": [
    {
     "name": "stdout",
     "output_type": "stream",
     "text": [
      "enter no. of rows3\n",
      "1 1 1\n",
      "2 2 2\n",
      "3 3 3\n",
      "enter no. of rows3\n",
      "1 1 1\n",
      "1 1 1\n",
      "1 1 1\n",
      "[[1, 1, 1], [2, 2, 2], [3, 3, 3]] [[1, 1, 1], [1, 1, 1], [1, 1, 1]]\n",
      "[[2, 2, 2], [3, 3, 3], [4, 4, 4]]\n"
     ]
    }
   ],
   "source": [
    "n = int(input('enter no. of rows'))\n",
    "a = [list( int(j) for j in input().split() ) for i in range(n)]\n",
    "\n",
    "n2 = int(input('enter no. of rows'))\n",
    "a2 = [list( int(j) for j in input().split() ) for i in range(n)]\n",
    "\n",
    "print(a,a2)\n",
    "\n",
    "Sum = []\n",
    "for i in range(len(a)):\n",
    "    x = []\n",
    "    for z in range (len(a[0])):\n",
    "        v = a[i][z]+a2[i][z]\n",
    "        x.append(v)\n",
    "    Sum.append(x)\n",
    "print(Sum)"
   ]
  },
  {
   "cell_type": "markdown",
   "id": "94d0644d",
   "metadata": {},
   "source": [
    "###### Multiplication of two matrix "
   ]
  },
  {
   "cell_type": "code",
   "execution_count": 13,
   "id": "9fff60ad",
   "metadata": {},
   "outputs": [
    {
     "name": "stdout",
     "output_type": "stream",
     "text": [
      "enter no. of rows2\n",
      "1 1\n",
      "2 2\n",
      "enter no. of rows2\n",
      "2 2\n",
      "3 3\n",
      "[[1, 1], [2, 2]] [[2, 2], [3, 3]]\n"
     ]
    },
    {
     "ename": "IndexError",
     "evalue": "list index out of range",
     "output_type": "error",
     "traceback": [
      "\u001b[1;31m---------------------------------------------------------------------------\u001b[0m",
      "\u001b[1;31mIndexError\u001b[0m                                Traceback (most recent call last)",
      "\u001b[1;32m~\\AppData\\Local\\Temp\\ipykernel_2244\\101672804.py\u001b[0m in \u001b[0;36m<module>\u001b[1;34m\u001b[0m\n\u001b[0;32m     15\u001b[0m \u001b[1;32mfor\u001b[0m \u001b[0mi\u001b[0m \u001b[1;32min\u001b[0m \u001b[0mrange\u001b[0m\u001b[1;33m(\u001b[0m\u001b[0mlen\u001b[0m\u001b[1;33m(\u001b[0m\u001b[0mmul\u001b[0m\u001b[1;33m)\u001b[0m\u001b[1;33m)\u001b[0m\u001b[1;33m:\u001b[0m\u001b[1;33m\u001b[0m\u001b[1;33m\u001b[0m\u001b[0m\n\u001b[0;32m     16\u001b[0m     \u001b[1;32mfor\u001b[0m \u001b[0mj\u001b[0m \u001b[1;32min\u001b[0m \u001b[0mrange\u001b[0m\u001b[1;33m(\u001b[0m\u001b[0mlen\u001b[0m\u001b[1;33m(\u001b[0m\u001b[0mmul\u001b[0m\u001b[1;33m[\u001b[0m\u001b[1;36m0\u001b[0m\u001b[1;33m]\u001b[0m\u001b[1;33m)\u001b[0m\u001b[1;33m)\u001b[0m\u001b[1;33m:\u001b[0m\u001b[1;33m\u001b[0m\u001b[1;33m\u001b[0m\u001b[0m\n\u001b[1;32m---> 17\u001b[1;33m         \u001b[0mmul\u001b[0m\u001b[1;33m[\u001b[0m\u001b[0mi\u001b[0m\u001b[1;33m]\u001b[0m\u001b[1;33m[\u001b[0m\u001b[0mj\u001b[0m\u001b[1;33m]\u001b[0m \u001b[1;33m=\u001b[0m \u001b[0ma\u001b[0m\u001b[1;33m[\u001b[0m\u001b[0mi\u001b[0m\u001b[1;33m]\u001b[0m\u001b[1;33m[\u001b[0m\u001b[0mj\u001b[0m\u001b[1;33m]\u001b[0m\u001b[1;33m*\u001b[0m\u001b[0mb\u001b[0m\u001b[1;33m[\u001b[0m\u001b[0mi\u001b[0m\u001b[1;33m]\u001b[0m\u001b[1;33m[\u001b[0m\u001b[0mj\u001b[0m\u001b[1;33m]\u001b[0m\u001b[1;33m+\u001b[0m\u001b[0ma\u001b[0m\u001b[1;33m[\u001b[0m\u001b[0mi\u001b[0m\u001b[1;33m]\u001b[0m\u001b[1;33m[\u001b[0m\u001b[0mj\u001b[0m\u001b[1;33m+\u001b[0m\u001b[1;36m1\u001b[0m\u001b[1;33m]\u001b[0m\u001b[1;33m*\u001b[0m\u001b[0mb\u001b[0m\u001b[1;33m[\u001b[0m\u001b[0mi\u001b[0m\u001b[1;33m+\u001b[0m\u001b[1;36m1\u001b[0m\u001b[1;33m]\u001b[0m\u001b[1;33m[\u001b[0m\u001b[0mj\u001b[0m\u001b[1;33m]\u001b[0m\u001b[1;33m\u001b[0m\u001b[1;33m\u001b[0m\u001b[0m\n\u001b[0m\u001b[0;32m     18\u001b[0m         \u001b[0mx\u001b[0m\u001b[1;33m.\u001b[0m\u001b[0mappend\u001b[0m\u001b[1;33m(\u001b[0m\u001b[0mv\u001b[0m\u001b[1;33m)\u001b[0m\u001b[1;33m\u001b[0m\u001b[1;33m\u001b[0m\u001b[0m\n\u001b[0;32m     19\u001b[0m     \u001b[0mmul\u001b[0m\u001b[1;33m.\u001b[0m\u001b[0mappend\u001b[0m\u001b[1;33m(\u001b[0m\u001b[0mx\u001b[0m\u001b[1;33m)\u001b[0m\u001b[1;33m\u001b[0m\u001b[1;33m\u001b[0m\u001b[0m\n",
      "\u001b[1;31mIndexError\u001b[0m: list index out of range"
     ]
    }
   ],
   "source": [
    "n = int(input('enter no. of rows'))\n",
    "a = [list( int(j) for j in input().split() ) for i in range(n)]\n",
    "\n",
    "n2 = int(input('enter no. of rows'))\n",
    "b = [list( int(j) for j in input().split() ) for i in range(n)]\n",
    "\n",
    "print(a,b)\n",
    "\n",
    "# if a1 is mXn and a2 is pXq then for multiplication n = p and mul will be mXq\n",
    "\n",
    "\n",
    "mul = [[0,0],[0,0]]\n",
    "\n",
    "\n",
    "for i in range(len(mul)):\n",
    "    for j in range(len(mul[0])):\n",
    "        mul[i][j] = a[i][j]*b[i][j]+a[i][j+1]*b[i+1][j]\n",
    "        x.append(v)\n",
    "    mul.append(x)\n",
    "print(mul)"
   ]
  },
  {
   "cell_type": "markdown",
   "id": "f9e663f2",
   "metadata": {},
   "source": [
    "### List comprehension "
   ]
  },
  {
   "cell_type": "code",
   "execution_count": 18,
   "id": "7616e84f",
   "metadata": {},
   "outputs": [
    {
     "name": "stdout",
     "output_type": "stream",
     "text": [
      "['apple', 'banana', 'mango']\n",
      "['apple', 'banana', 'mango']\n"
     ]
    }
   ],
   "source": [
    "fruits = [\"apple\", \"banana\", \"cherry\", \"kiwi\", \"mango\"]\n",
    "newlist = []\n",
    "\n",
    "for x in fruits:\n",
    "    if \"a\" in x:\n",
    "        newlist.append(x)\n",
    "\n",
    "print(newlist)\n",
    "\n",
    "# With list comprehension you can do all that with only one line of code:\n",
    "\n",
    "# Example\n",
    "\n",
    "fruits = [\"apple\", \"banana\", \"cherry\", \"kiwi\", \"mango\"]\n",
    "\n",
    "newlist = [x for x in fruits if \"a\" in x]\n",
    "\n",
    "print(newlist)"
   ]
  },
  {
   "cell_type": "markdown",
   "id": "24be8fea",
   "metadata": {},
   "source": [
    "### Program  to print largest sum row "
   ]
  },
  {
   "cell_type": "code",
   "execution_count": 35,
   "id": "4d5f8ff3",
   "metadata": {},
   "outputs": [
    {
     "name": "stdout",
     "output_type": "stream",
     "text": [
      "[2, 6, 2] 1\n",
      "0\n"
     ]
    }
   ],
   "source": [
    "a = [[1, 1, 1], [2, 6, 2], [3, 3, 1]]\n",
    "\n",
    "largest = [0,0,0]\n",
    "\n",
    "for i in a:\n",
    "    if sum(i) > sum(largest):\n",
    "        largest=i\n",
    "\n",
    "print(largest,a.index(largest))\n",
    "print(largest.index(2))"
   ]
  },
  {
   "cell_type": "markdown",
   "id": "96439f5f",
   "metadata": {},
   "source": [
    "### Program to print largest sum coloumn "
   ]
  },
  {
   "cell_type": "code",
   "execution_count": 40,
   "id": "bcca3661",
   "metadata": {},
   "outputs": [
    {
     "ename": "TypeError",
     "evalue": "'int' object is not iterable",
     "output_type": "error",
     "traceback": [
      "\u001b[1;31m---------------------------------------------------------------------------\u001b[0m",
      "\u001b[1;31mTypeError\u001b[0m                                 Traceback (most recent call last)",
      "\u001b[1;32m~\\AppData\\Local\\Temp\\ipykernel_2244\\1472479502.py\u001b[0m in \u001b[0;36m<module>\u001b[1;34m\u001b[0m\n\u001b[0;32m      5\u001b[0m \u001b[1;32mfor\u001b[0m \u001b[0mi\u001b[0m \u001b[1;32min\u001b[0m \u001b[0mrange\u001b[0m \u001b[1;33m(\u001b[0m\u001b[0mlen\u001b[0m\u001b[1;33m(\u001b[0m\u001b[0ma\u001b[0m\u001b[1;33m)\u001b[0m\u001b[1;33m)\u001b[0m\u001b[1;33m:\u001b[0m\u001b[1;33m\u001b[0m\u001b[1;33m\u001b[0m\u001b[0m\n\u001b[0;32m      6\u001b[0m     \u001b[1;32mfor\u001b[0m \u001b[0mj\u001b[0m \u001b[1;32min\u001b[0m \u001b[0mrange\u001b[0m\u001b[1;33m(\u001b[0m\u001b[0mlen\u001b[0m\u001b[1;33m(\u001b[0m\u001b[0ma\u001b[0m\u001b[1;33m[\u001b[0m\u001b[1;36m0\u001b[0m\u001b[1;33m]\u001b[0m\u001b[1;33m)\u001b[0m\u001b[1;33m)\u001b[0m\u001b[1;33m:\u001b[0m\u001b[1;33m\u001b[0m\u001b[1;33m\u001b[0m\u001b[0m\n\u001b[1;32m----> 7\u001b[1;33m         \u001b[1;32mif\u001b[0m \u001b[0msum\u001b[0m\u001b[1;33m(\u001b[0m\u001b[0mj\u001b[0m\u001b[1;33m)\u001b[0m\u001b[1;33m>\u001b[0m\u001b[0msum\u001b[0m\u001b[1;33m(\u001b[0m\u001b[0mlargest\u001b[0m\u001b[1;33m)\u001b[0m\u001b[1;33m:\u001b[0m\u001b[1;33m\u001b[0m\u001b[1;33m\u001b[0m\u001b[0m\n\u001b[0m\u001b[0;32m      8\u001b[0m             \u001b[0mlargest\u001b[0m \u001b[1;33m=\u001b[0m \u001b[0mj\u001b[0m\u001b[1;33m\u001b[0m\u001b[1;33m\u001b[0m\u001b[0m\n\u001b[0;32m      9\u001b[0m \u001b[1;33m\u001b[0m\u001b[0m\n",
      "\u001b[1;31mTypeError\u001b[0m: 'int' object is not iterable"
     ]
    }
   ],
   "source": [
    "a = [[1, 1, 1], [2, 6, 2], [3, 3, 1]]\n",
    "\n",
    "largest = [[0],[0],[0]]\n",
    "\n",
    "for i in range (len(a)):\n",
    "    for j in range(len(a[0])):\n",
    "        if sum(j)>sum(largest):\n",
    "            largest = j\n",
    "        \n",
    "print(largest)"
   ]
  },
  {
   "cell_type": "code",
   "execution_count": 2,
   "id": "32be3181",
   "metadata": {},
   "outputs": [
    {
     "name": "stdout",
     "output_type": "stream",
     "text": [
      "4321\n"
     ]
    }
   ],
   "source": [
    "a = '1234'\n",
    "print(a[::-1])"
   ]
  },
  {
   "cell_type": "code",
   "execution_count": 1,
   "id": "c92a424d",
   "metadata": {},
   "outputs": [
    {
     "name": "stdout",
     "output_type": "stream",
     "text": [
      "True\n"
     ]
    }
   ],
   "source": [
    "a = 12\n",
    "if a//10 ==1:\n",
    "    print('True')\n"
   ]
  },
  {
   "cell_type": "markdown",
   "id": "7db62c2e",
   "metadata": {},
   "source": [
    "### program to print palindrome number"
   ]
  },
  {
   "cell_type": "code",
   "execution_count": 4,
   "id": "60b371d3",
   "metadata": {},
   "outputs": [
    {
     "name": "stdout",
     "output_type": "stream",
     "text": [
      "555\n",
      "True\n"
     ]
    }
   ],
   "source": [
    "n = int(input())\n",
    "m = str(n)\n",
    "x = m[::-1]\n",
    "if m==x:\n",
    "    print('True')\n",
    "else:\n",
    "    print('False')\n"
   ]
  },
  {
   "cell_type": "markdown",
   "id": "26a7cf9b",
   "metadata": {},
   "source": [
    "### program to add even and odd numbers in a given number"
   ]
  },
  {
   "cell_type": "code",
   "execution_count": 10,
   "id": "7b3a7122",
   "metadata": {},
   "outputs": [
    {
     "name": "stdout",
     "output_type": "stream",
     "text": [
      "1234\n",
      "6 4\n"
     ]
    }
   ],
   "source": [
    "n = int(input())\n",
    "m = str(n)\n",
    "a = []\n",
    "b=[]\n",
    "for i in m:\n",
    "    i = int(i)\n",
    "    if i%2==0:\n",
    "        a.append(i)\n",
    "    else:\n",
    "        b.append(i)\n",
    "e = 0\n",
    "for i1 in a:\n",
    "    e=e+i1\n",
    "o = 0\n",
    "for i2 in b:\n",
    "    o = o+i2\n",
    "print(e,end=' ')\n",
    "print(o)"
   ]
  },
  {
   "cell_type": "code",
   "execution_count": 11,
   "id": "5d59b589",
   "metadata": {},
   "outputs": [
    {
     "name": "stdout",
     "output_type": "stream",
     "text": [
      "0\n",
      "1\n",
      "2\n",
      "3\n",
      "4\n"
     ]
    }
   ],
   "source": [
    "n = 5\n",
    "for i in range(5):\n",
    "    print(i)"
   ]
  },
  {
   "cell_type": "code",
   "execution_count": 14,
   "id": "67667981",
   "metadata": {},
   "outputs": [
    {
     "data": {
      "text/plain": [
       "'`'"
      ]
     },
     "execution_count": 14,
     "metadata": {},
     "output_type": "execute_result"
    }
   ],
   "source": [
    "chr(96) # ascii before a"
   ]
  },
  {
   "cell_type": "code",
   "execution_count": 15,
   "id": "6300598b",
   "metadata": {},
   "outputs": [
    {
     "data": {
      "text/plain": [
       "'a'"
      ]
     },
     "execution_count": 15,
     "metadata": {},
     "output_type": "execute_result"
    }
   ],
   "source": [
    "chr(97)"
   ]
  },
  {
   "cell_type": "code",
   "execution_count": 17,
   "id": "891206ca",
   "metadata": {},
   "outputs": [
    {
     "data": {
      "text/plain": [
       "65"
      ]
     },
     "execution_count": 17,
     "metadata": {},
     "output_type": "execute_result"
    }
   ],
   "source": [
    "ord('A')"
   ]
  },
  {
   "cell_type": "code",
   "execution_count": 21,
   "id": "27e3dbf5",
   "metadata": {},
   "outputs": [
    {
     "data": {
      "text/plain": [
       "'A'"
      ]
     },
     "execution_count": 21,
     "metadata": {},
     "output_type": "execute_result"
    }
   ],
   "source": [
    "chr(65)"
   ]
  },
  {
   "cell_type": "code",
   "execution_count": 2,
   "id": "bc5ac254",
   "metadata": {},
   "outputs": [
    {
     "name": "stdout",
     "output_type": "stream",
     "text": [
      "4\n",
      "A\n",
      "BC\n",
      "CDE\n",
      "DEFG\n"
     ]
    }
   ],
   "source": [
    "n=int(input())\n",
    "x = 65\n",
    "for i in range(n):\n",
    "    x = 65+i\n",
    "    for j in range(i+1):\n",
    "        print(chr(x),end=\"\")\n",
    "        x=x+1\n",
    "    print()"
   ]
  },
  {
   "cell_type": "markdown",
   "id": "06aefe7d",
   "metadata": {},
   "source": [
    "### Value of a variable can change universally  even inside nested loops,conditions,etc  "
   ]
  },
  {
   "cell_type": "code",
   "execution_count": 1,
   "id": "f5aab5ec",
   "metadata": {},
   "outputs": [
    {
     "name": "stdout",
     "output_type": "stream",
     "text": [
      "3\n",
      "4\n",
      "3\n",
      "4\n"
     ]
    }
   ],
   "source": [
    "x =4\n",
    "for i in range(x):\n",
    "    if x%2==0:\n",
    "        x=x-1\n",
    "    else:\n",
    "        x=x+1\n",
    "    print(x)"
   ]
  },
  {
   "cell_type": "code",
   "execution_count": 2,
   "id": "c460777c",
   "metadata": {},
   "outputs": [
    {
     "name": "stdout",
     "output_type": "stream",
     "text": [
      "5\n",
      "1 2 3 4 5\n",
      "1\n",
      "3\n",
      "3\n"
     ]
    }
   ],
   "source": [
    "\n",
    "from sys import stdin\n",
    "\n",
    "\n",
    "def binarysearch(arr, element):\n",
    "    start = 0\n",
    "    end = len(arr) - 1\n",
    "    while start <= end:\n",
    "        mid = (start + end) // 2\n",
    "        if arr[mid] == element:\n",
    "            return mid\n",
    "        elif arr[mid] < element:\n",
    "            start = mid + 1\n",
    "        else:\n",
    "            end = mid - 1\n",
    "    return -1\n",
    "\n",
    "\n",
    "faltu = int(input())\n",
    "if faltu == 0:\n",
    "    list = [0]\n",
    "else:\n",
    "    list = [int(x) for x in input().split()]\n",
    "no_of_loop = int(input())\n",
    "for i in range(no_of_loop):\n",
    "    search_element = int(input())\n",
    "    print(binarysearch(list, search_element))\n",
    "\n"
   ]
  },
  {
   "cell_type": "code",
   "execution_count": null,
   "id": "ab574b80",
   "metadata": {},
   "outputs": [],
   "source": []
  }
 ],
 "metadata": {
  "kernelspec": {
   "display_name": "Python 3 (ipykernel)",
   "language": "python",
   "name": "python3"
  },
  "language_info": {
   "codemirror_mode": {
    "name": "ipython",
    "version": 3
   },
   "file_extension": ".py",
   "mimetype": "text/x-python",
   "name": "python",
   "nbconvert_exporter": "python",
   "pygments_lexer": "ipython3",
   "version": "3.9.13"
  }
 },
 "nbformat": 4,
 "nbformat_minor": 5
}
