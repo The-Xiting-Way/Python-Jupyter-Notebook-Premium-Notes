{
 "cells": [
  {
   "cell_type": "markdown",
   "id": "94cfdeb5",
   "metadata": {},
   "source": [
    "###### Pattern for right angle triangle "
   ]
  },
  {
   "cell_type": "code",
   "execution_count": 17,
   "id": "268827cb",
   "metadata": {},
   "outputs": [
    {
     "name": "stdout",
     "output_type": "stream",
     "text": [
      "       *\n",
      "       **\n",
      "       ***\n",
      "       ****\n"
     ]
    }
   ],
   "source": [
    "n = 4\n",
    "sc = n-nc\n",
    "nc = 1\n",
    "\n",
    "for item in range(n):\n",
    "    \n",
    "    for i in range(sc):\n",
    "        print(' ',end='')\n",
    "    for x in range(nc):\n",
    "        print('*',end='')\n",
    "   \n",
    "    nc = nc+1\n",
    "    print()   "
   ]
  },
  {
   "cell_type": "markdown",
   "id": "a3d55a6f",
   "metadata": {},
   "source": [
    "###### Pattern to draw inverted right angle triangle"
   ]
  },
  {
   "cell_type": "markdown",
   "id": "d0278f8e",
   "metadata": {},
   "source": [
    "###### using no space in ''   \"  in end=''  \"  will give us a inverted right angle triangle "
   ]
  },
  {
   "cell_type": "code",
   "execution_count": 1,
   "id": "09925b91",
   "metadata": {},
   "outputs": [
    {
     "name": "stdout",
     "output_type": "stream",
     "text": [
      "****\n",
      " ***\n",
      "  **\n",
      "   *\n"
     ]
    }
   ],
   "source": [
    "n = 4\n",
    "sc =0\n",
    "nc = n\n",
    "\n",
    "for item in range(n):\n",
    "    \n",
    "    for i in range(sc):\n",
    "        print(' ',end='')\n",
    "    for x in range(nc):\n",
    "        print('*',end='')\n",
    "   \n",
    "    nc = nc-1\n",
    "    sc=sc+1\n",
    "    print()             # use print other wise end = '' won't get executed"
   ]
  },
  {
   "cell_type": "markdown",
   "id": "394cf0ef",
   "metadata": {},
   "source": [
    "###### Pattern for non-right angle triangle "
   ]
  },
  {
   "cell_type": "code",
   "execution_count": 5,
   "id": "f8f14ade",
   "metadata": {},
   "outputs": [
    {
     "name": "stdout",
     "output_type": "stream",
     "text": [
      "* * * * \n",
      " * * * \n",
      "  * * \n",
      "   * \n"
     ]
    }
   ],
   "source": [
    "# use end ='   ' for non right angle triangle\n",
    "\n",
    "n = 4\n",
    "sc =0\n",
    "nc = n\n",
    "\n",
    "for item in range(n):\n",
    "    \n",
    "    for i in range(sc):\n",
    "        print(' ',end='')\n",
    "    for x in range(nc):\n",
    "        print('*',end=' ')\n",
    "   \n",
    "    nc = nc-1\n",
    "    sc=sc+1\n",
    "    print()               # use print other wise end = '' won't get executed"
   ]
  },
  {
   "cell_type": "markdown",
   "id": "fecba6e3",
   "metadata": {},
   "source": [
    "###### not using print() with loop seaprately "
   ]
  },
  {
   "cell_type": "code",
   "execution_count": 7,
   "id": "9ce2c1f2",
   "metadata": {},
   "outputs": [
    {
     "name": "stdout",
     "output_type": "stream",
     "text": [
      "* * * *  * * *   * *    * "
     ]
    }
   ],
   "source": [
    "# not using print seaprately won't execute end='' for use because of loop\n",
    "\n",
    "n = 4\n",
    "sc =0\n",
    "nc = n\n",
    "\n",
    "for item in range(n):\n",
    "    \n",
    "    for i in range(sc):\n",
    "        print(' ',end='')\n",
    "    for x in range(nc):\n",
    "        print('*',end=' ')\n",
    "   \n",
    "    nc = nc-1\n",
    "    sc=sc+1"
   ]
  },
  {
   "cell_type": "markdown",
   "id": "9995ac64",
   "metadata": {},
   "source": [
    "#### Pattern to draw hour glass\n"
   ]
  },
  {
   "cell_type": "code",
   "execution_count": 3,
   "id": "b545440e",
   "metadata": {},
   "outputs": [
    {
     "name": "stdout",
     "output_type": "stream",
     "text": [
      "* * * * \n",
      " * * * \n",
      "  * * \n",
      "   * \n",
      "  * * \n",
      " * * * \n",
      "* * * * \n"
     ]
    }
   ],
   "source": [
    "n = 4\n",
    "sc =0\n",
    "nc = n\n",
    "\n",
    "for item in range(n):\n",
    "    \n",
    "    for i in range(sc):\n",
    "        print(' ',end='')\n",
    "    for x in range(nc):\n",
    "        print('*',end=' ')\n",
    "   \n",
    "    nc = nc-1\n",
    "    sc=sc+1\n",
    "    print()     \n",
    "    \n",
    "n = 4\n",
    "nc = 2\n",
    "sc=2\n",
    "\n",
    "for item in range(n-1):      # use n-1 to reduce a row because our row started with ** not *\n",
    "    \n",
    "    for i in range(sc):\n",
    "        print(' ',end='')\n",
    "    for x in range(nc):\n",
    "        print('*',end=' ')\n",
    "   \n",
    "    nc = nc+1\n",
    "    sc=sc-1\n",
    "    print()     "
   ]
  },
  {
   "cell_type": "markdown",
   "id": "2dc9f8e7",
   "metadata": {},
   "source": [
    "###### pattern for numbers in place of stars"
   ]
  },
  {
   "cell_type": "code",
   "execution_count": 13,
   "id": "2aa475c0",
   "metadata": {},
   "outputs": [
    {
     "name": "stdout",
     "output_type": "stream",
     "text": [
      "1\n",
      "22\n",
      "333\n",
      "4444\n",
      "55555\n"
     ]
    }
   ],
   "source": [
    "n = 5\n",
    "a=1\n",
    "for i in range(n):\n",
    "    for nc in range(i+1):\n",
    "        print(a,end='')\n",
    "    print()    \n",
    "    a=a+1    "
   ]
  },
  {
   "cell_type": "markdown",
   "id": "f2f849a8",
   "metadata": {},
   "source": [
    "###### program to prin this pattern "
   ]
  },
  {
   "cell_type": "code",
   "execution_count": 6,
   "id": "a32d6d4b",
   "metadata": {},
   "outputs": [],
   "source": [
    "# 1 \n",
    "# 1 2 \n",
    "# 1 2 3 \n",
    "# 1 2 3 4 \n",
    "# 1 2 3 4 5   (# is not part of pattern it's just here to make a comment)"
   ]
  },
  {
   "cell_type": "code",
   "execution_count": 15,
   "id": "42aaf84b",
   "metadata": {},
   "outputs": [
    {
     "name": "stdout",
     "output_type": "stream",
     "text": [
      "1\n",
      "12\n",
      "123\n",
      "1234\n",
      "12345\n"
     ]
    }
   ],
   "source": [
    "n = 5\n",
    "a=1\n",
    "for i in range(n):\n",
    "    for nc in range(i+1):\n",
    "        print(nc+1,end='')\n",
    "    print()\n",
    "    a=a+1"
   ]
  },
  {
   "cell_type": "code",
   "execution_count": 16,
   "id": "67054019",
   "metadata": {},
   "outputs": [],
   "source": [
    "# 1 \n",
    "# 3 3 \n",
    "# 5 5 5 \n",
    "# 7 7 7 7 \n",
    "# 9 9 9 9 9"
   ]
  },
  {
   "cell_type": "code",
   "execution_count": 39,
   "id": "3806bfc9",
   "metadata": {},
   "outputs": [
    {
     "name": "stdout",
     "output_type": "stream",
     "text": [
      "1\n",
      "33\n",
      "555\n",
      "7777\n",
      "99999\n"
     ]
    }
   ],
   "source": [
    "n = 5\n",
    "a=1\n",
    "for i in range(n):\n",
    "    for nc in range(i+1):\n",
    "        print(a,end='')\n",
    "    print()\n",
    "    a=a+2"
   ]
  },
  {
   "cell_type": "markdown",
   "id": "8c58717a",
   "metadata": {},
   "source": [
    "### Ascii value is a code given to characters to store in memory just like variables "
   ]
  },
  {
   "cell_type": "markdown",
   "id": "6fd18f34",
   "metadata": {},
   "source": [
    "###### The ord() function returns the number representing the ascii value or code of a specified character. \n",
    "###### chr() gives the character corresponding to ascii value"
   ]
  },
  {
   "cell_type": "code",
   "execution_count": 48,
   "id": "8679229e",
   "metadata": {},
   "outputs": [
    {
     "data": {
      "text/plain": [
       "65"
      ]
     },
     "execution_count": 48,
     "metadata": {},
     "output_type": "execute_result"
    }
   ],
   "source": [
    "a = 'A'\n",
    "\n",
    "# you can write\n",
    "     \n",
    "ord(a)\n",
    "\n",
    "# or\n",
    "\n",
    "ord('A')"
   ]
  },
  {
   "cell_type": "markdown",
   "id": "927e10eb",
   "metadata": {},
   "source": [
    "###### ascii value of a character is 1 more than previous character "
   ]
  },
  {
   "cell_type": "code",
   "execution_count": 49,
   "id": "27ff0081",
   "metadata": {},
   "outputs": [
    {
     "data": {
      "text/plain": [
       "65"
      ]
     },
     "execution_count": 49,
     "metadata": {},
     "output_type": "execute_result"
    }
   ],
   "source": [
    "ord('A')"
   ]
  },
  {
   "cell_type": "code",
   "execution_count": 51,
   "id": "0e162cee",
   "metadata": {},
   "outputs": [
    {
     "data": {
      "text/plain": [
       "66"
      ]
     },
     "execution_count": 51,
     "metadata": {},
     "output_type": "execute_result"
    }
   ],
   "source": [
    "ord('B')"
   ]
  },
  {
   "cell_type": "markdown",
   "id": "1c317736",
   "metadata": {},
   "source": [
    "###### chr() gives character to ascii value "
   ]
  },
  {
   "cell_type": "code",
   "execution_count": 55,
   "id": "c2a82395",
   "metadata": {},
   "outputs": [
    {
     "data": {
      "text/plain": [
       "'@'"
      ]
     },
     "execution_count": 55,
     "metadata": {},
     "output_type": "execute_result"
    }
   ],
   "source": [
    "chr(64)"
   ]
  },
  {
   "cell_type": "code",
   "execution_count": 52,
   "id": "cca63993",
   "metadata": {},
   "outputs": [
    {
     "data": {
      "text/plain": [
       "'A'"
      ]
     },
     "execution_count": 52,
     "metadata": {},
     "output_type": "execute_result"
    }
   ],
   "source": [
    "chr(65)"
   ]
  },
  {
   "cell_type": "code",
   "execution_count": 54,
   "id": "18975939",
   "metadata": {},
   "outputs": [
    {
     "data": {
      "text/plain": [
       "'B'"
      ]
     },
     "execution_count": 54,
     "metadata": {},
     "output_type": "execute_result"
    }
   ],
   "source": [
    "chr(66)"
   ]
  },
  {
   "cell_type": "code",
   "execution_count": null,
   "id": "60e1c6a0",
   "metadata": {},
   "outputs": [],
   "source": []
  }
 ],
 "metadata": {
  "kernelspec": {
   "display_name": "Python 3 (ipykernel)",
   "language": "python",
   "name": "python3"
  },
  "language_info": {
   "codemirror_mode": {
    "name": "ipython",
    "version": 3
   },
   "file_extension": ".py",
   "mimetype": "text/x-python",
   "name": "python",
   "nbconvert_exporter": "python",
   "pygments_lexer": "ipython3",
   "version": "3.9.12"
  }
 },
 "nbformat": 4,
 "nbformat_minor": 5
}
