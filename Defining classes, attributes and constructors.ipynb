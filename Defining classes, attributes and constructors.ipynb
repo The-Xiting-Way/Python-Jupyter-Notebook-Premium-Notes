{
 "cells": [
  {
   "cell_type": "markdown",
   "id": "85acce6b",
   "metadata": {},
   "source": [
    "#### We saw that we have classes like lists,sets,int,string,dict,etc but we can also define different classes aswell"
   ]
  },
  {
   "cell_type": "markdown",
   "id": "c4a5e129",
   "metadata": {},
   "source": [
    "###### In defining a function we use underscore(_) to seaprate words in variables but in defining class we use first lettter of words as capital letter\n",
    "\n",
    "eg -:\n",
    "\n",
    "      in defining function we will do-: xyz_abc\n",
    "      \n",
    "      but in defining class we will do -: XyzAbc\n",
    "      \n",
    "      \n",
    "##### Always start class first letter as capital because it is a convention and a good practice for future but we can use classes in lower case too, for multiple words use upper letter to seaprate  "
   ]
  },
  {
   "cell_type": "markdown",
   "id": "3cf8efed",
   "metadata": {},
   "source": [
    "### Instance and class variable "
   ]
  },
  {
   "cell_type": "code",
   "execution_count": 49,
   "id": "8d358e85",
   "metadata": {},
   "outputs": [
    {
     "name": "stdout",
     "output_type": "stream",
     "text": [
      "8\n",
      "8\n",
      "{'name': 'rohan', 'no_of_leaves': 9}\n",
      "9\n",
      "9\n"
     ]
    }
   ],
   "source": [
    "class Employee:\n",
    "    no_of_leaves = 8  # this is a class avriable\n",
    "    pass\n",
    "\n",
    "raj = Employee()\n",
    "\n",
    "rohan= Employee()\n",
    "\n",
    "# instance variables are variable that belongs to a particular class\n",
    "# here rohan.name and roaj.name are instance variables, as they belong to Employee class\n",
    "\n",
    "raj.name = 'raj'        \n",
    "rohan.name='rohan'\n",
    "\n",
    "# we can acces class variable using class or instance variable \n",
    "# but can't change class variable using instance variable,can only change it using class variable\n",
    "\n",
    "print(rohan.no_of_leaves)\n",
    "print(Employee.no_of_leaves)\n",
    "\n",
    "# we can change the class variables here aswell but we can't change it using instance variable\n",
    "\n",
    "Employee.no_of_leaves = 9    \n",
    "\n",
    "rohan.no_of_leaves = 9 # its wrong, it won't change no_of_leaves infact create a new instance variable\n",
    "\n",
    "# (double underscore )___dict__ function gives items for variables in dictionary form\n",
    "\n",
    "print(rohan.__dict__)   \n",
    "print(rohan.no_of_leaves)    # it is not changing no_of_leaves in class variable it's a new variable\n",
    "print(Employee.no_of_leaves)"
   ]
  },
  {
   "cell_type": "code",
   "execution_count": 3,
   "id": "7cc445e0",
   "metadata": {},
   "outputs": [
    {
     "name": "stdout",
     "output_type": "stream",
     "text": [
      "draw\n"
     ]
    }
   ],
   "source": [
    "class  point:  \n",
    "    def move(self):    # in this way we can also define methods or functions for our class\n",
    "        print('move')\n",
    "    def draw(self):\n",
    "        print('draw')\n",
    "        \n",
    "a = point()     # this way we defined a as point class\n",
    "a.draw()      # here self becomes a so draw(self) = draw(a)  here this is role of self parameter"
   ]
  },
  {
   "cell_type": "markdown",
   "id": "21c46003",
   "metadata": {},
   "source": [
    "##### Self is a parameter , Every method in class should have this parameter(self) and this should be the very first parameter of every method\n",
    "\n",
    "self represents the instance of the class. or refrences the current object or variable  By using the “self”  we can access the attributes and methods of the class in python. It binds the attributes with the given arguments."
   ]
  },
  {
   "cell_type": "code",
   "execution_count": 57,
   "id": "17a4d273",
   "metadata": {},
   "outputs": [
    {
     "name": "stdout",
     "output_type": "stream",
     "text": [
      "<bound method Employee.print_details of <__main__.Employee object at 0x000001ED2C845370>>\n"
     ]
    }
   ],
   "source": [
    "class Employee:\n",
    "    def print_details(self):\n",
    "        return (f'The name is {self.name}. Salary is {self.salary}. Role is {self.role}')       \n",
    "\n",
    "raj = Employee()\n",
    "rohan= Employee()\n",
    "              \n",
    "              # for raj self becomes raj and for rohan self becomes rohan\n",
    "\n",
    "raj.name= 'raj'\n",
    "raj.role='SDE'\n",
    "raj.salary='10000000'\n",
    "              \n",
    "rohan.name='rohan'\n",
    "rohan.role='developer'\n",
    "rohan.salary='100000'              \n",
    "\n",
    "print(raj.print_details)  \n",
    "\n",
    "# always use () in print_details or functions otherwise output will be :\n",
    "# <bound method Employee.print_details of <__main__.Employee object at 0x000001ED2C845370>>"
   ]
  },
  {
   "cell_type": "markdown",
   "id": "0bbe91d1",
   "metadata": {},
   "source": [
    "##### Attributes -: \n",
    "attributes are like variables that belongs to particular object or class"
   ]
  },
  {
   "cell_type": "code",
   "execution_count": 8,
   "id": "a9a8a70c",
   "metadata": {},
   "outputs": [
    {
     "name": "stdout",
     "output_type": "stream",
     "text": [
      "3\n",
      "move\n",
      "draw\n",
      "None\n"
     ]
    }
   ],
   "source": [
    "class  Point:  \n",
    "    def move(self):    \n",
    "        return('move')    # using return only gives output no return\n",
    "    def draw(self):\n",
    "        print('draw')      # using print wil give none too\n",
    "        \n",
    "a = Point()\n",
    "                            \n",
    "a.x = 3                    # these are attributes\n",
    "a.y = 5\n",
    "\n",
    "print(a.x)\n",
    "print(a.move())\n",
    "print(a.draw())"
   ]
  },
  {
   "cell_type": "markdown",
   "id": "1353abec",
   "metadata": {},
   "source": [
    "###### The pass statement is used as a placeholder for future code. \n",
    "\n",
    "When the pass statement is executed, nothing happens, but you avoid getting an error when empty code is not allowed. Empty code is not allowed in loops, function definitions, class definitions, or in if statements."
   ]
  },
  {
   "cell_type": "code",
   "execution_count": 38,
   "id": "029d6249",
   "metadata": {},
   "outputs": [
    {
     "name": "stdout",
     "output_type": "stream",
     "text": [
      "raj\n"
     ]
    }
   ],
   "source": [
    "class Employee:\n",
    "    pass\n",
    "\n",
    "raj = Employee()\n",
    "rohan= Employee()\n",
    "\n",
    "raj.name = 'raj'\n",
    "rohan.name='rohan'\n",
    "\n",
    "print(raj.name)"
   ]
  },
  {
   "cell_type": "markdown",
   "id": "7d2f1df8",
   "metadata": {},
   "source": [
    "###### Constructor is a special method or function in class that gets called at the time of creating an object\n",
    "\n",
    "The task of constructors is to initialize(assign values) to the data members of the class when an object of the class is created. In Python the __init__() method is called the constructor and is always called when an object is created.\n",
    "\n",
    "It is double underscore in __init__ not single underscore"
   ]
  },
  {
   "cell_type": "markdown",
   "id": "1183909b",
   "metadata": {},
   "source": [
    "Using single underscore with init is wrong"
   ]
  },
  {
   "cell_type": "code",
   "execution_count": 1,
   "id": "636d96c3",
   "metadata": {},
   "outputs": [
    {
     "ename": "TypeError",
     "evalue": "Employee() takes no arguments",
     "output_type": "error",
     "traceback": [
      "\u001b[1;31m---------------------------------------------------------------------------\u001b[0m",
      "\u001b[1;31mTypeError\u001b[0m                                 Traceback (most recent call last)",
      "Input \u001b[1;32mIn [1]\u001b[0m, in \u001b[0;36m<cell line: 14>\u001b[1;34m()\u001b[0m\n\u001b[0;32m      6\u001b[0m rohan\u001b[38;5;241m=\u001b[39m Employee()\n\u001b[0;32m      8\u001b[0m               \u001b[38;5;66;03m# for raj self becomes raj and for rohan self becomes rohan\u001b[39;00m\n\u001b[0;32m      9\u001b[0m         \n\u001b[0;32m     10\u001b[0m         \n\u001b[0;32m     11\u001b[0m  \u001b[38;5;66;03m# this will be better than writing harry.name, harry.salary,etc seaprately \u001b[39;00m\n\u001b[0;32m     12\u001b[0m \u001b[38;5;66;03m# but it gives error to do this without error we use __init__\u001b[39;00m\n\u001b[1;32m---> 14\u001b[0m harry \u001b[38;5;241m=\u001b[39m \u001b[43mEmployee\u001b[49m\u001b[43m(\u001b[49m\u001b[38;5;124;43m'\u001b[39;49m\u001b[38;5;124;43mharry\u001b[39;49m\u001b[38;5;124;43m'\u001b[39;49m\u001b[43m,\u001b[49m\u001b[38;5;124;43m'\u001b[39;49m\u001b[38;5;124;43mSDE\u001b[39;49m\u001b[38;5;124;43m'\u001b[39;49m\u001b[43m,\u001b[49m\u001b[38;5;124;43m'\u001b[39;49m\u001b[38;5;124;43m1000000\u001b[39;49m\u001b[38;5;124;43m'\u001b[39;49m\u001b[43m)\u001b[49m        \n\u001b[0;32m     16\u001b[0m rohan \u001b[38;5;241m=\u001b[39m Employee(\u001b[38;5;124m'\u001b[39m\u001b[38;5;124mrohan\u001b[39m\u001b[38;5;124m'\u001b[39m,\u001b[38;5;124m'\u001b[39m\u001b[38;5;124mrohan\u001b[39m\u001b[38;5;124m'\u001b[39m,\u001b[38;5;124m'\u001b[39m\u001b[38;5;124m100000\u001b[39m\u001b[38;5;124m'\u001b[39m)        \n\u001b[0;32m     19\u001b[0m \u001b[38;5;28mprint\u001b[39m(raj\u001b[38;5;241m.\u001b[39mprint_details)\n",
      "\u001b[1;31mTypeError\u001b[0m: Employee() takes no arguments"
     ]
    }
   ],
   "source": [
    "class Employee:\n",
    "    def print_details(self):\n",
    "        return (f'The name is {self.name}. Salary is {self.salary}. Role is {self.role}')       \n",
    "\n",
    "raj = Employee()\n",
    "rohan= Employee()\n",
    "              \n",
    "              # for raj self becomes raj and for rohan self becomes rohan\n",
    "        \n",
    "        \n",
    " # this will be better than writing harry.name, harry.salary,etc seaprately \n",
    "# but it gives error to do this without error we use __init__\n",
    "        \n",
    "harry = Employee('harry','SDE','1000000')        \n",
    "\n",
    "rohan = Employee('rohan','rohan','100000')        \n",
    "        \n",
    "\n",
    "print(raj.print_details)  "
   ]
  },
  {
   "cell_type": "markdown",
   "id": "1185bc1d",
   "metadata": {},
   "source": [
    "### TO ADD ARGUMENTS IN EMPLOYEE() WE USE __INIT__\n",
    "\n",
    "###### Above we can see that we got error that we can't add arguments or values in function to add that we use __init__"
   ]
  },
  {
   "cell_type": "code",
   "execution_count": 2,
   "id": "806d58af",
   "metadata": {},
   "outputs": [
    {
     "name": "stdout",
     "output_type": "stream",
     "text": [
      "The name is raj. Salary is 1000000. Role is SDE\n"
     ]
    }
   ],
   "source": [
    "class Employee:\n",
    "    \n",
    "    # a_name, the_salary, the_role is argument not variable ( arguments are values in variables )\n",
    "    # self.name, self.salary, self.role is instance variable\n",
    "    \n",
    "    def __init__(self,a_name,the_salary,the_role): \n",
    "        self.name = a_name               \n",
    "        self.salary = the_salary\n",
    "        self.role = the_role\n",
    "        \n",
    "    def print_details(self):\n",
    "        return (f'The name is {self.name}. Salary is {self.salary}. Role is {self.role}')       \n",
    "              \n",
    "              # for raj self becomes raj and for rohan self becomes rohan\n",
    "        \n",
    "raj = Employee('raj','1000000','SDE')        \n",
    "\n",
    "rohan = Employee('rohan','100000','developer')        \n",
    "        \n",
    "\n",
    "print(raj.print_details())  "
   ]
  },
  {
   "cell_type": "code",
   "execution_count": null,
   "id": "3e3c0f89",
   "metadata": {},
   "outputs": [],
   "source": []
  }
 ],
 "metadata": {
  "kernelspec": {
   "display_name": "Python 3 (ipykernel)",
   "language": "python",
   "name": "python3"
  },
  "language_info": {
   "codemirror_mode": {
    "name": "ipython",
    "version": 3
   },
   "file_extension": ".py",
   "mimetype": "text/x-python",
   "name": "python",
   "nbconvert_exporter": "python",
   "pygments_lexer": "ipython3",
   "version": "3.9.13"
  }
 },
 "nbformat": 4,
 "nbformat_minor": 5
}
