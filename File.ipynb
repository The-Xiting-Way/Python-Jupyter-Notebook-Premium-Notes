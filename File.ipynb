{
 "cells": [
  {
   "cell_type": "markdown",
   "id": "a7268b77",
   "metadata": {},
   "source": [
    "### WE USE f = open() to open and f.close() to close and f.read() to read a file"
   ]
  },
  {
   "cell_type": "code",
   "execution_count": 1,
   "id": "c14de7f8",
   "metadata": {},
   "outputs": [],
   "source": [
    "# ### WE USE f = open() to open and f.close() to close and f.read() to read a file\n",
    "\n",
    "# ###### f.readline() reads a line \n",
    "\n",
    "# ###### f.read() inside () enter no. of characters to read and by default it reads full page \n",
    "\n",
    "# ###### There are different modes in file open () like w for writing , a for appending, r for reading (rb for binary by default r is in rt or text mode\n",
    "\n",
    "# f = open('ratchets.txt','a')# write address of file in '' and using , specify mode\n",
    "# f.write(' with a wall street mind and a project smile , with a nice ass')\n",
    "# f.close()\n",
    "\n",
    "# ### f.write() is used for both write or append only mode changes\n",
    "\n",
    "\n",
    "# ###### write mode will write from sctrach so it will clear all text or file  then write text or file and append helps in adding new text or file\n",
    "\n",
    "# ### The best way to use open and close file automaticaly is with statement \n",
    "\n",
    "# with open('ratchets.txt',) as f:\n",
    "#     a = f.read()\n",
    "#     print(a)\n",
    "        \n",
    "# # on using f.read() without print it will read without printing\n",
    "# # with statement don't needs to close a file\n",
    "\n",
    "# with open('ratchets.txt',) as a:  # can use any variable instead of f\n",
    "#     print(a.read())\n",
    "\n",
    "# ###### we can use if, for,while,etc keywords when working with file too\n",
    "\n",
    "# with open('ratchets.txt',) as a:  # can use any variable instead of f\n",
    "#     t = a.read()\n",
    "# if 'bitch' in t :\n",
    "#     print('brilliant bitch')\n",
    "\n",
    "# ###### .replace() is used to replace a word or data in file  in () LHS will  be word/data to be replaced and RHS will be word/data to be replaced with \n",
    "\n",
    "# ###### Note you can not open file in multiple mode but can use update with write \n",
    "\n",
    "# # r for reading\n",
    "# # r+ opens for reading and writing (cannot truncate a file)\n",
    "# # w for writing\n",
    "# # w+ for writing and reading (can truncate a file)\n",
    "# # rb for reading a binary file. The file pointer is placed at the beginning of the file.\n",
    "# # rb+ reading or writing a binary file\n",
    "# # wb+ writing a binary file\n",
    "# # a+ opens for appending\n",
    "\n",
    "# # ab+ Opens a file for both appending and reading in binary. The file pointer is at the end of the file if the file exists.\n",
    "# # the file opens in the append mode.\n",
    "\n",
    "# # x open for exclusive creation, failing if the file already exists (Python 3)\n",
    "\n",
    "# w = ['ass','sex','bitch']\n",
    "\n",
    "# with open('ye.txt') as a:  \n",
    "#     t = a.read()\n",
    "    \n",
    "# for item in w:\n",
    "#     x = t.replace(item,'#$&*^%#')   \n",
    "#     with open('sx.txt','w') as a: \n",
    "#         a.write(x)    \n",
    "\n",
    "\n"
   ]
  },
  {
   "cell_type": "code",
   "execution_count": null,
   "id": "a6944996",
   "metadata": {},
   "outputs": [],
   "source": []
  }
 ],
 "metadata": {
  "kernelspec": {
   "display_name": "Python 3 (ipykernel)",
   "language": "python",
   "name": "python3"
  },
  "language_info": {
   "codemirror_mode": {
    "name": "ipython",
    "version": 3
   },
   "file_extension": ".py",
   "mimetype": "text/x-python",
   "name": "python",
   "nbconvert_exporter": "python",
   "pygments_lexer": "ipython3",
   "version": "3.9.13"
  }
 },
 "nbformat": 4,
 "nbformat_minor": 5
}
