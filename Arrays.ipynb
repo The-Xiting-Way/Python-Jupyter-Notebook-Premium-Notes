{
 "cells": [
  {
   "cell_type": "markdown",
   "id": "1f7e7d0d",
   "metadata": {},
   "source": [
    "###### Arryas contain collection of different data types "
   ]
  },
  {
   "cell_type": "code",
   "execution_count": 1,
   "id": "5245b8cc",
   "metadata": {},
   "outputs": [
    {
     "ename": "NameError",
     "evalue": "name 'array' is not defined",
     "output_type": "error",
     "traceback": [
      "\u001b[1;31m---------------------------------------------------------------------------\u001b[0m",
      "\u001b[1;31mNameError\u001b[0m                                 Traceback (most recent call last)",
      "Input \u001b[1;32mIn [1]\u001b[0m, in \u001b[0;36m<cell line: 1>\u001b[1;34m()\u001b[0m\n\u001b[1;32m----> 1\u001b[0m a \u001b[38;5;241m=\u001b[39m \u001b[43marray\u001b[49m(\u001b[38;5;241m1\u001b[39m,[\u001b[38;5;241m1\u001b[39m,\u001b[38;5;241m1\u001b[39m,\u001b[38;5;241m1\u001b[39m],\u001b[38;5;124m'\u001b[39m\u001b[38;5;124m1\u001b[39m\u001b[38;5;124m'\u001b[39m)\n",
      "\u001b[1;31mNameError\u001b[0m: name 'array' is not defined"
     ]
    }
   ],
   "source": [
    "a = array(0,[1,2,3],'4')"
   ]
  },
  {
   "cell_type": "markdown",
   "id": "deb1a2cd",
   "metadata": {},
   "source": [
    "###### To use arrays we need to first import array"
   ]
  },
  {
   "cell_type": "code",
   "execution_count": 3,
   "id": "a43b6310",
   "metadata": {},
   "outputs": [
    {
     "name": "stdout",
     "output_type": "stream",
     "text": [
      "3\n"
     ]
    }
   ],
   "source": [
    "from array import *\n",
    "a = array('i',[1,2,3,-2])           # i is for + and - value and H is for no -ve value\n",
    "print(a[2])"
   ]
  },
  {
   "cell_type": "markdown",
   "id": "ec4cef98",
   "metadata": {},
   "source": [
    "### When to Use Python Arrays\n",
    "\n",
    "\n",
    "Lists are built into the Python programming language, whereas arrays aren't. Arrays are not a built-in data structure, and therefore need to be imported via the array module in order to be used.\n",
    "\n",
    "Arrays of the array module are a thin wrapper over C arrays, and are useful when you want to work with homogeneous data.\n",
    "\n",
    "They are also more compact and take up less memory and space which makes them more size efficient compared to lists.\n",
    "\n",
    "If you want to perform mathematical calculations, then you should use NumPy arrays by importing the NumPy package. Besides that, you should just use Python arrays when you really need to, as lists work in a similar way and are more flexible to work with."
   ]
  },
  {
   "cell_type": "markdown",
   "id": "6d12930a",
   "metadata": {},
   "source": [
    "###### Let's break it down:\n",
    "\n",
    "First we included the array module, in this case with import array as arr .\n",
    "Then, we created a numbers array.\n",
    "We used arr.array() because of import array as arr .\n",
    "Inside the array() constructor, we first included i, for signed integer. Signed integer means that the array can include positive and negative values. Unsigned integer, with H for example, would mean that no negative values are allowed.\n",
    "Lastly, we included the values to be stored in the array in square brackets."
   ]
  },
  {
   "cell_type": "markdown",
   "id": "4b8c3909",
   "metadata": {},
   "source": [
    "###### strings are iterable but integers are not "
   ]
  },
  {
   "cell_type": "code",
   "execution_count": 4,
   "id": "b0ad2f28",
   "metadata": {},
   "outputs": [
    {
     "name": "stdout",
     "output_type": "stream",
     "text": [
      "h\n",
      "it have h\n",
      "e\n",
      "l\n",
      "l\n",
      "o\n"
     ]
    }
   ],
   "source": [
    "a='hello'\n",
    "for i in a :\n",
    "    print(i)\n",
    "    if i=='h':\n",
    "        print('it have h')"
   ]
  },
  {
   "cell_type": "code",
   "execution_count": null,
   "id": "2ed6c4e0",
   "metadata": {},
   "outputs": [],
   "source": []
  }
 ],
 "metadata": {
  "kernelspec": {
   "display_name": "Python 3 (ipykernel)",
   "language": "python",
   "name": "python3"
  },
  "language_info": {
   "codemirror_mode": {
    "name": "ipython",
    "version": 3
   },
   "file_extension": ".py",
   "mimetype": "text/x-python",
   "name": "python",
   "nbconvert_exporter": "python",
   "pygments_lexer": "ipython3",
   "version": "3.9.13"
  }
 },
 "nbformat": 4,
 "nbformat_minor": 5
}
