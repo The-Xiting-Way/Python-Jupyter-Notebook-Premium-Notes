{
 "cells": [
  {
   "cell_type": "markdown",
   "id": "2ea51765",
   "metadata": {},
   "source": [
    "# while loop "
   ]
  },
  {
   "cell_type": "markdown",
   "id": "3272e620",
   "metadata": {},
   "source": [
    "### In while loop we use\n",
    "\n",
    "### while condition :\n",
    "\n",
    "### here condition is any condition far example x>2 or i>=5, etc"
   ]
  },
  {
   "cell_type": "code",
   "execution_count": 9,
   "id": "4e387e86",
   "metadata": {},
   "outputs": [
    {
     "name": "stdout",
     "output_type": "stream",
     "text": [
      "*\n",
      "done\n",
      "**\n",
      "done\n",
      "***\n",
      "done\n",
      "****\n",
      "done\n",
      "*****\n",
      "done\n"
     ]
    }
   ],
   "source": [
    "i= 1\n",
    "\n",
    "while i<=5:\n",
    "    print('*'*i)\n",
    "    i=i+1    # here it will change value of i and return as loop as long as condition is correct\n",
    "    print('done')   # here print is subset of while loop so it will after every successfull step"
   ]
  },
  {
   "cell_type": "code",
   "execution_count": 10,
   "id": "68497a97",
   "metadata": {},
   "outputs": [
    {
     "name": "stdout",
     "output_type": "stream",
     "text": [
      "*\n",
      "**\n",
      "***\n",
      "****\n",
      "*****\n",
      "done\n"
     ]
    }
   ],
   "source": [
    "i= 1\n",
    "\n",
    "while i<=5:\n",
    "    print('*'*i)\n",
    "    i=i+1    \n",
    "print('done') # here print is not subset of while loop so it will get printed after loop is over"
   ]
  },
  {
   "cell_type": "markdown",
   "id": "811443a0",
   "metadata": {},
   "source": [
    "## Guessing game using while loop"
   ]
  },
  {
   "cell_type": "code",
   "execution_count": 3,
   "id": "50dfafaa",
   "metadata": {},
   "outputs": [
    {
     "name": "stdout",
     "output_type": "stream",
     "text": [
      "Guess a one digit number: 7\n",
      "not the right number\n",
      "Guess a one digit number: 9\n",
      "yay! you are right\n"
     ]
    }
   ],
   "source": [
    "right_number= 9\n",
    "guess_count=0   \n",
    "guess_limit= 3\n",
    "\n",
    "while guess_count<guess_limit:\n",
    "    guessed_number=int(input('Guess a one digit number: '))\n",
    "    guess_count= guess_count+1 #you can use guess_count+=1 to save time, guess_count= guess_count +1 is same as guess_count+=1\n",
    "   \n",
    "    if guessed_number==right_number:\n",
    "        print('yay! you are right')\n",
    "        break                                  # break is used to break the loop\n",
    "    elif guessed_number!=right_number:\n",
    "        print('not the right number')"
   ]
  },
  {
   "cell_type": "markdown",
   "id": "9b638307",
   "metadata": {},
   "source": [
    "  ### using .lower or .upper means whatever written in command=\" \" becomes upper or lower \n",
    "\n",
    "### so if conditions are in upper case \n",
    " ### even if user enters input in lower using .upper will make it upper automaticaly using upper will be upper\n",
    "### so it can process input in same case as conditions, simliarly it works if we use .lower and our coditions is in lower to make upper input in same case a input\n",
    "\n"
   ]
  },
  {
   "cell_type": "markdown",
   "id": "f009e353",
   "metadata": {},
   "source": [
    "## Car game using loop "
   ]
  },
  {
   "cell_type": "code",
   "execution_count": 2,
   "id": "9af70961",
   "metadata": {},
   "outputs": [
    {
     "name": "stdout",
     "output_type": "stream",
     "text": [
      "Give instruction like start ,quit or stop no\n",
      "you have quiet the game\n"
     ]
    }
   ],
   "source": [
    "command=\"x\"\n",
    "\n",
    "# here we will use .lower because we gave conditions in lower charcters like quiet,start,stop are in lower\n",
    "# we can use conditions in upper charcters then we will use .upper\n",
    "\n",
    "while command.lower() != 'quit':     # it means if user has not quit so no quiting is condition\n",
    "    command = input('Give instruction like start ,quit or stop: ')\n",
    "    \n",
    "    if command.lower() == 'start':\n",
    "        print('car started')\n",
    "    elif command.lower() == 'stop':\n",
    "        print('car stopped')\n",
    "    else:\n",
    "        print('you have quiet the game')\n",
    "        break\n",
    "               \n",
    "#IN PROGRAMMING we try not to repeat huge codes\n",
    "# so instead of righting command.upper() again and again in the first place right command"
   ]
  },
  {
   "cell_type": "code",
   "execution_count": 3,
   "id": "046951d6",
   "metadata": {},
   "outputs": [
    {
     "name": "stdout",
     "output_type": "stream",
     "text": [
      "Give instruction like start ,quit or stop: START\n",
      "car started\n",
      "Give instruction like start ,quit or stop: NO\n",
      "you have quiet the game\n"
     ]
    }
   ],
   "source": [
    "command=\"x\"\n",
    "\n",
    "# we can't use .upper here because conditions are in lower using .upper it will search far START instead of start condition  \n",
    "# capital case START is not specified here\n",
    "\n",
    "while command != 'quit': # it means if user has not quit so no quiting is condition\n",
    "    \n",
    "    command = input('Give instruction like start ,quit or stop: ').lower()\n",
    "    \n",
    "    if command == 'start':\n",
    "        print('car started')\n",
    "    elif command == 'stop':\n",
    "        print('car stopped')\n",
    "    else:\n",
    "        print('you have quiet the game')\n",
    "        break"
   ]
  },
  {
   "cell_type": "code",
   "execution_count": 1,
   "id": "6c26d20a",
   "metadata": {},
   "outputs": [
    {
     "name": "stdout",
     "output_type": "stream",
     "text": [
      "0\n",
      "1\n",
      "2\n",
      "3\n",
      "4\n"
     ]
    }
   ],
   "source": [
    "for a in range(5):    \n",
    "    print(a)\n",
    "    \n",
    "# we can use i or any variable here    \n",
    " ### here last limit won't be printed so 5 won't be printed    "
   ]
  },
  {
   "cell_type": "code",
   "execution_count": 7,
   "id": "5524b7d0",
   "metadata": {},
   "outputs": [
    {
     "name": "stdout",
     "output_type": "stream",
     "text": [
      "yes 0\n",
      "yes 1\n",
      "yes 2\n",
      "yes 3\n",
      "yes 4\n",
      "yes 5\n",
      "yes 6\n",
      "yes 7\n",
      "yes 8\n",
      "yes 9\n"
     ]
    }
   ],
   "source": [
    "i= 0\n",
    "while i<10:\n",
    "    print('yes',i) \n",
    "    i=i+1"
   ]
  },
  {
   "cell_type": "code",
   "execution_count": 3,
   "id": "a3c6fd31",
   "metadata": {},
   "outputs": [
    {
     "name": "stdout",
     "output_type": "stream",
     "text": [
      "p\n",
      "y\n",
      "t\n",
      "h\n",
      "o\n",
      "n\n"
     ]
    }
   ],
   "source": [
    "for item in 'python':\n",
    "    print(item)"
   ]
  },
  {
   "cell_type": "markdown",
   "id": "97015d3e",
   "metadata": {},
   "source": [
    "## program to calculate list of items in shopping list"
   ]
  },
  {
   "cell_type": "markdown",
   "id": "c3702346",
   "metadata": {},
   "source": [
    "### prices= [ 10,20,30]\n",
    "### for item in prices \n",
    "### here price or item is int value in prices (which is list) like 10,20,etc"
   ]
  },
  {
   "cell_type": "code",
   "execution_count": 1,
   "id": "b757c02f",
   "metadata": {},
   "outputs": [
    {
     "name": "stdout",
     "output_type": "stream",
     "text": [
      "Total: 10\n",
      "Total: 30\n",
      "Total: 60\n"
     ]
    }
   ],
   "source": [
    "prices=[10,20,30]\n",
    "\n",
    "total=0\n",
    "\n",
    "for price in prices:          # item is not a function you can call it anything like price, abc, value,etc in place of item \n",
    "    total=total+price\n",
    "    print(f\"Total: {total}\")\n",
    "    \n",
    "# Here indentiation of print is inside for loop so it will last as long as it could \n",
    "# Using print out of for loop we will get final total"
   ]
  },
  {
   "cell_type": "markdown",
   "id": "583ce15c",
   "metadata": {},
   "source": [
    "## Always keep indentiation right "
   ]
  },
  {
   "cell_type": "markdown",
   "id": "9fe476c3",
   "metadata": {},
   "source": [
    "#### Using print out of for loop we will get final total"
   ]
  },
  {
   "cell_type": "code",
   "execution_count": 2,
   "id": "f93e92b1",
   "metadata": {},
   "outputs": [
    {
     "name": "stdout",
     "output_type": "stream",
     "text": [
      "Total: 60\n"
     ]
    }
   ],
   "source": [
    "prices=[10,20,30]\n",
    "\n",
    "total=0\n",
    "\n",
    "for price in prices:          \n",
    "    total=total+price\n",
    "print(f\"Total: {total}\")\n",
    "    \n",
    "# Using print out of for loop we will get final total    "
   ]
  },
  {
   "cell_type": "code",
   "execution_count": 3,
   "id": "24e5fd3b",
   "metadata": {},
   "outputs": [
    {
     "name": "stdout",
     "output_type": "stream",
     "text": [
      "(0,0)\n",
      "(0,1)\n",
      "(0,2)\n",
      "(0,3)\n",
      "(1,0)\n",
      "(1,1)\n",
      "(1,2)\n",
      "(1,3)\n",
      "(2,0)\n",
      "(2,1)\n",
      "(2,2)\n",
      "(2,3)\n",
      "(3,0)\n",
      "(3,1)\n",
      "(3,2)\n",
      "(3,3)\n"
     ]
    }
   ],
   "source": [
    "for x in range (4):      # don't forget to use in range (4), using only in (4) will confuse computer in finding (4) variable\n",
    "    for y in range (4):\n",
    "        print(f\"({x},{y})\")"
   ]
  },
  {
   "cell_type": "code",
   "execution_count": 4,
   "id": "6ab5f92d",
   "metadata": {},
   "outputs": [
    {
     "name": "stdout",
     "output_type": "stream",
     "text": [
      "xxxxx\n",
      "xx\n",
      "xxxxx\n",
      "xx\n",
      "xx\n"
     ]
    }
   ],
   "source": [
    "## This is a really complex and difficult way to write this \n",
    "for j in range (1):\n",
    "    print('xxxxx')\n",
    "for j in range (1,2):\n",
    "    print('xx')\n",
    "for j in range (2,3):\n",
    "    print('xxxxx')\n",
    "for j in range (3,5):\n",
    "    print(\"xx\")    "
   ]
  },
  {
   "cell_type": "markdown",
   "id": "d7639b29",
   "metadata": {},
   "source": [
    "### Easy way to do this"
   ]
  },
  {
   "cell_type": "code",
   "execution_count": 20,
   "id": "e21ef58d",
   "metadata": {},
   "outputs": [
    {
     "name": "stdout",
     "output_type": "stream",
     "text": [
      "xxxxx\n",
      "xx\n",
      "xxxxx\n",
      "xx\n",
      "xx\n"
     ]
    }
   ],
   "source": [
    "numbers_of_x_in_row = [5,2,5,2,2]   # we will use items in this lists as no. of printing for x\n",
    "\n",
    "for x_count in numbers_of_x_in_row:  # this will give us no. of x \n",
    "    output='' \n",
    "    for count in range(x_count):  # if count is 5 this loop will go on to print x 5 times until loop is over \n",
    "      \n",
    "        output = output+'x' # here output is changing continously with loop until range is met and then final output is printed \n",
    "    print(output)                                                            "
   ]
  },
  {
   "cell_type": "code",
   "execution_count": 36,
   "id": "43e35625",
   "metadata": {},
   "outputs": [
    {
     "name": "stdout",
     "output_type": "stream",
     "text": [
      "x\n",
      "x\n",
      "xx\n",
      "xxx\n",
      "xxxx\n",
      "xxxxx\n",
      "x\n",
      "xx\n",
      "x\n",
      "xx\n",
      "xxx\n",
      "xxxx\n",
      "xxxxx\n",
      "x\n",
      "xx\n",
      "x\n",
      "xx\n"
     ]
    }
   ],
   "source": [
    " # indentiation or print should be with outer loop because using it with inner loop will print all outcomes in loop\n",
    "    \n",
    "numbers_of_x_in_row = [5,2,5,2,2]   # we will use items in this lists as no. of printing for x\n",
    "\n",
    "for x_count in numbers_of_x_in_row:     # this will give us no. of x \n",
    "    output=''\n",
    "    for count in range(x_count):        # if count is 5 this loop will go on to print x 5 times until loop is over \n",
    "        output = output+'x'             # this will be printing x until last limit of range     \n",
    "        print(output)                    # here print is part of inner loop so its printing all outcomes in  inner loop "
   ]
  },
  {
   "cell_type": "markdown",
   "id": "d3b6074c",
   "metadata": {},
   "source": [
    "### here x is printed 5 time because we gave output=''  which is string and string can't be added like 1+1 ,etc so addition in string makes it duplicated like 1+1 in integer is 2 but in string it is xx,aa,bb,etc \n",
    "\n",
    "##### lets take example far integer value"
   ]
  },
  {
   "cell_type": "code",
   "execution_count": 34,
   "id": "9960b322",
   "metadata": {},
   "outputs": [
    {
     "name": "stdout",
     "output_type": "stream",
     "text": [
      "25\n",
      "10\n",
      "25\n",
      "10\n",
      "10\n"
     ]
    }
   ],
   "source": [
    "numbers_of_x_in_row = [5,2,5,2,2]  \n",
    "for x_count in numbers_of_x_in_row:    \n",
    "    output=0\n",
    "    for count in range(x_count):         \n",
    "        output = output+1      # here output is changing continously with loop until rangee is met     \n",
    "    print(output)                    "
   ]
  },
  {
   "cell_type": "markdown",
   "id": "c1242075",
   "metadata": {},
   "source": [
    "### In while loop we have to use i = i+1, In for loop i always increased using in range ()"
   ]
  },
  {
   "cell_type": "markdown",
   "id": "ddf47f17",
   "metadata": {},
   "source": [
    "### We can also use combinations of loops\n",
    "#### example-:"
   ]
  },
  {
   "cell_type": "code",
   "execution_count": 47,
   "id": "5a3da392",
   "metadata": {},
   "outputs": [
    {
     "name": "stdout",
     "output_type": "stream",
     "text": [
      "[1, 2, 3, 0, 7, 5]\n"
     ]
    }
   ],
   "source": [
    "a = [1,1,2,3,0,7,5]\n",
    "\n",
    "for item in a:\n",
    "    while a.count(item)!=1:\n",
    "        a.remove(item)\n",
    "print(a)        "
   ]
  },
  {
   "cell_type": "code",
   "execution_count": null,
   "id": "19b2e2a7",
   "metadata": {},
   "outputs": [],
   "source": []
  }
 ],
 "metadata": {
  "kernelspec": {
   "display_name": "Python 3 (ipykernel)",
   "language": "python",
   "name": "python3"
  },
  "language_info": {
   "codemirror_mode": {
    "name": "ipython",
    "version": 3
   },
   "file_extension": ".py",
   "mimetype": "text/x-python",
   "name": "python",
   "nbconvert_exporter": "python",
   "pygments_lexer": "ipython3",
   "version": "3.9.12"
  }
 },
 "nbformat": 4,
 "nbformat_minor": 5
}
